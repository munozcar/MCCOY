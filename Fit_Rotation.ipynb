{
 "cells": [
  {
   "cell_type": "code",
   "execution_count": 2,
   "metadata": {},
   "outputs": [],
   "source": [
    "import numpy as np\n",
    "import matplotlib.pyplot as plt\n",
    "import pandas as pd\n",
    "\n",
    "%matplotlib qt5"
   ]
  },
  {
   "cell_type": "code",
   "execution_count": 3,
   "metadata": {},
   "outputs": [],
   "source": [
    "# DEFINE CONSTANTS\n",
    "k = 1.381E-23 #J/K \n",
    "h = 6.626E-34 #J s \n",
    "B0 = 5.266\n",
    "\n",
    "# PARTITION FUNCTION (WE WILL INTERPOLATE WITHIN THESE VALUES)\n",
    "Qcdms = [13.8355, 28.4924, 64.0955, 164.3168, 449.0811, 1267.6705, 2628.0493, 3811.9477, 5277.5726]\n",
    "T = [2.725, 5.0, 9.375, 18.75, 37.5, 75.0, 120.0, 150.0, 180.0]\n",
    "\n",
    "Qfit = np.polyfit(T, Qcdms, 2)\n",
    "Q = np.poly1d(Qfit)\n",
    "\n",
    "T_array = np.linspace(0,200,1000)\n",
    "\n",
    "\n",
    "plt.scatter(T, Qcdms, color=\"blue\", s=50)\n",
    "plt.plot(T_array, Q(T_array), color=\"blue\", linestyle=\"--\")\n",
    "\n",
    "plt.ylabel(\"$Q_{rot}$\", fontsize=15)\n",
    "plt.xlabel(\"$T (K)$\", fontsize=15)\n",
    "\n",
    "plt.show()"
   ]
  },
  {
   "cell_type": "code",
   "execution_count": 4,
   "metadata": {},
   "outputs": [],
   "source": [
    "molecule = pd.read_csv(\"CH3CN_fit_1.csv\", delimiter=\"\\t\")"
   ]
  },
  {
   "cell_type": "code",
   "execution_count": 5,
   "metadata": {},
   "outputs": [
    {
     "data": {
      "text/html": [
       "<div>\n",
       "<style scoped>\n",
       "    .dataframe tbody tr th:only-of-type {\n",
       "        vertical-align: middle;\n",
       "    }\n",
       "\n",
       "    .dataframe tbody tr th {\n",
       "        vertical-align: top;\n",
       "    }\n",
       "\n",
       "    .dataframe thead th {\n",
       "        text-align: right;\n",
       "    }\n",
       "</style>\n",
       "<table border=\"1\" class=\"dataframe\">\n",
       "  <thead>\n",
       "    <tr style=\"text-align: right;\">\n",
       "      <th></th>\n",
       "      <th>Eup (K)</th>\n",
       "      <th>Ln(Nu/gu)</th>\n",
       "      <th>err(Ln(Nu/gu))</th>\n",
       "    </tr>\n",
       "  </thead>\n",
       "  <tbody>\n",
       "    <tr>\n",
       "      <th>0</th>\n",
       "      <td>20.389921</td>\n",
       "      <td>20.580379</td>\n",
       "      <td>0.147003</td>\n",
       "    </tr>\n",
       "    <tr>\n",
       "      <th>1</th>\n",
       "      <td>13.244174</td>\n",
       "      <td>20.574362</td>\n",
       "      <td>0.134370</td>\n",
       "    </tr>\n",
       "    <tr>\n",
       "      <th>2</th>\n",
       "      <td>25.687393</td>\n",
       "      <td>19.776127</td>\n",
       "      <td>0.173957</td>\n",
       "    </tr>\n",
       "    <tr>\n",
       "      <th>3</th>\n",
       "      <td>18.541808</td>\n",
       "      <td>19.866676</td>\n",
       "      <td>0.229724</td>\n",
       "    </tr>\n",
       "    <tr>\n",
       "      <th>4</th>\n",
       "      <td>15.975260</td>\n",
       "      <td>20.814805</td>\n",
       "      <td>0.187116</td>\n",
       "    </tr>\n",
       "    <tr>\n",
       "      <th>5</th>\n",
       "      <td>8.829497</td>\n",
       "      <td>21.525804</td>\n",
       "      <td>0.191800</td>\n",
       "    </tr>\n",
       "  </tbody>\n",
       "</table>\n",
       "</div>"
      ],
      "text/plain": [
       "     Eup (K)  Ln(Nu/gu)  err(Ln(Nu/gu))\n",
       "0  20.389921  20.580379        0.147003\n",
       "1  13.244174  20.574362        0.134370\n",
       "2  25.687393  19.776127        0.173957\n",
       "3  18.541808  19.866676        0.229724\n",
       "4  15.975260  20.814805        0.187116\n",
       "5   8.829497  21.525804        0.191800"
      ]
     },
     "execution_count": 5,
     "metadata": {},
     "output_type": "execute_result"
    }
   ],
   "source": [
    "molecule"
   ]
  },
  {
   "cell_type": "code",
   "execution_count": 6,
   "metadata": {},
   "outputs": [],
   "source": [
    "plt.scatter(molecule[\"Eup (K)\"], molecule[\"Ln(Nu/gu)\"], c=\"black\")\n",
    "plt.errorbar(molecule[\"Eup (K)\"], molecule[\"Ln(Nu/gu)\"], yerr=molecule[\"err(Ln(Nu/gu))\"], fmt=\"none\", ecolor=\"black\", \n",
    "             elinewidth=1, capsize=3)\n",
    "plt.ylabel(\"$\\ln (N_u / g_u)$\", fontsize=15)\n",
    "plt.xlabel(\"$E_u/k$\", fontsize=15)\n",
    "plt.show()"
   ]
  },
  {
   "cell_type": "code",
   "execution_count": 7,
   "metadata": {},
   "outputs": [
    {
     "name": "stdout",
     "output_type": "stream",
     "text": [
      "[[Fit Statistics]]\n",
      "    # fitting method   = leastsq\n",
      "    # function evals   = 34\n",
      "    # data points      = 6\n",
      "    # variables        = 2\n",
      "    chi-square         = 18.3310237\n",
      "    reduced chi-square = 4.58275592\n",
      "    Akaike info crit   = 10.7010126\n",
      "    Bayesian info crit = 10.2845316\n",
      "[[Variables]]\n",
      "    logN:  21.9406002 +/- 0.50617392 (2.31%) (init = 20.58038)\n",
      "    Tex:   12.2019587 +/- 4.22308032 (34.61%) (init = 0.1)\n",
      "[[Correlations]] (unreported correlations are < 0.100)\n",
      "    C(logN, Tex) = -0.956\n"
     ]
    }
   ],
   "source": [
    "from numpy import exp, linspace, pi, random, sign, sin\n",
    "\n",
    "from lmfit import Parameters, fit_report, minimize\n",
    "\n",
    "\n",
    "def residual(pars, x, data=None, eps=None):\n",
    "\n",
    "    vals = pars.valuesdict()\n",
    "    logN = vals['logN']\n",
    "    Tex = vals['Tex']\n",
    "\n",
    "    model = logN - x/Tex\n",
    "  \n",
    "    if data is None:\n",
    "        return model\n",
    "    if eps is None:\n",
    "        return model - data\n",
    "    return (model-data) / eps\n",
    "\n",
    "x = molecule[\"Eup (K)\"]\n",
    "\n",
    "data = molecule[\"Ln(Nu/gu)\"]\n",
    "eps = molecule[\"err(Ln(Nu/gu))\"]\n",
    "\n",
    "fit_params = Parameters()\n",
    "fit_params.add('logN', value=data[0])\n",
    "fit_params.add('Tex', value=1e-1, min=0)\n",
    "\n",
    "out = minimize(residual, fit_params, args=(x,), kws={'data': data, 'eps': eps})\n",
    "\n",
    "print(fit_report(out))\n",
    "# <end examples/doc_fitting_withreport.py>"
   ]
  },
  {
   "cell_type": "code",
   "execution_count": 8,
   "metadata": {},
   "outputs": [
    {
     "name": "stdout",
     "output_type": "stream",
     "text": [
      "Name     Value      Min      Max   Stderr     Vary     Expr Brute_Step\n",
      "Tex       12.2        0      inf    4.223     True     None     None\n",
      "logN     21.94     -inf      inf   0.5062     True     None     None\n"
     ]
    }
   ],
   "source": [
    "out.params.pretty_print()"
   ]
  },
  {
   "cell_type": "code",
   "execution_count": 12,
   "metadata": {},
   "outputs": [],
   "source": [
    "Eu = np.array(np.linspace(5,30,1000))\n",
    "\n",
    "logN = out.params[\"logN\"]\n",
    "Tex = out.params[\"Tex\"]\n",
    "\n",
    "logN_err = 0.5062 \n",
    "Tex_err = 4.223\n",
    "\n",
    "bestfit = logN - Eu/Tex\n",
    "\n",
    "# UNCERTAINTY ESTIMATE (# 1 SIGMA)\n",
    "dy = np.sqrt(logN_err**2 + (Eu*Tex_err*Tex**(-2))**2)\n",
    "\n",
    "plt.fill_between(Eu, bestfit+dy, bestfit-dy, color=\"blue\", alpha=0.1)\n",
    "\n",
    "plt.plot(Eu, bestfit, linestyle=\"--\", c=\"red\", linewidth=2)\n",
    "\n",
    "plt.scatter(molecule[\"Eup (K)\"], molecule[\"Ln(Nu/gu)\"], c=\"black\")\n",
    "plt.errorbar(molecule[\"Eup (K)\"], molecule[\"Ln(Nu/gu)\"], yerr=molecule[\"err(Ln(Nu/gu))\"], fmt=\"none\", ecolor=\"black\", \n",
    "             elinewidth=1, capsize=3)\n",
    "plt.ylabel(\"$\\ln (N_u / g_u)$\", fontsize=15)\n",
    "plt.xlabel(\"$E_u/k$\", fontsize=15)\n",
    "plt.title(\"$CH_3CN$\")\n",
    "plt.show()"
   ]
  },
  {
   "cell_type": "markdown",
   "metadata": {},
   "source": [
    "## Calculate Column Density"
   ]
  },
  {
   "cell_type": "code",
   "execution_count": 13,
   "metadata": {},
   "outputs": [],
   "source": [
    "Qrot = Q(Tex)\n",
    "Qrot_err = np.sqrt( (Q[1]*Tex_err)**2 + (2*Q[2]*Tex_err*Tex)**2 )\n",
    "\n",
    "logNtot = logN + np.log(Qrot)\n",
    "logNtot_err = np.sqrt((logN_err)**2 + (Qrot_err/Qrot)**2)"
   ]
  },
  {
   "cell_type": "code",
   "execution_count": 14,
   "metadata": {},
   "outputs": [],
   "source": [
    "plt.subplot2grid((1,5),(0,0), colspan=4)\n",
    "\n",
    "plt.fill_between(Eu, bestfit+dy, bestfit-dy, color=\"blue\", alpha=0.1)\n",
    "\n",
    "plt.plot(Eu, bestfit, linestyle=\"--\", c=\"red\", linewidth=2)\n",
    "\n",
    "plt.scatter(molecule[\"Eup (K)\"], molecule[\"Ln(Nu/gu)\"], c=\"black\")\n",
    "plt.errorbar(molecule[\"Eup (K)\"], molecule[\"Ln(Nu/gu)\"], yerr=molecule[\"err(Ln(Nu/gu))\"], fmt=\"none\", ecolor=\"black\", \n",
    "             elinewidth=1, capsize=3)\n",
    "plt.ylabel(\"$\\ln (N_u / g_u)$\", fontsize=15)\n",
    "plt.xlabel(\"$E_u/k$\", fontsize=15)\n",
    "plt.title(\"$CH_3CN$\")\n",
    "\n",
    "ax = plt.subplot2grid((1,5),(0,4), colspan=1)\n",
    "\n",
    "plt.errorbar(0,logNtot, yerr=logNtot_err, ecolor=\"black\", elinewidth=1, capsize=3)\n",
    "plt.scatter(0,logNtot, color=\"black\")\n",
    "plt.xlim(-10,10)\n",
    "plt.xticks([])\n",
    "plt.ylim(logNtot-5*logNtot_err,logNtot+2*logNtot_err)\n",
    "ax.yaxis.tick_right()\n",
    "ax.set_ylabel(\"$\\ln(N_{tot})$\", fontsize=15)\n",
    "ax.yaxis.set_label_position(\"right\")\n",
    "\n",
    "plt.show()"
   ]
  },
  {
   "cell_type": "markdown",
   "metadata": {},
   "source": [
    "### Rotational Diagram Formatting (for CASSIS) -- ignore"
   ]
  },
  {
   "cell_type": "code",
   "execution_count": null,
   "metadata": {},
   "outputs": [],
   "source": [
    "rotdiag = pd.read_csv(\"CH3CN_ROT.rotd.txt\", sep=\"\\t\", header=1, skiprows=[2])"
   ]
  },
  {
   "cell_type": "code",
   "execution_count": null,
   "metadata": {},
   "outputs": [],
   "source": [
    "rotdiag[rotdiag[\"IntensityMax\"]>0.025]"
   ]
  },
  {
   "cell_type": "code",
   "execution_count": null,
   "metadata": {},
   "outputs": [],
   "source": [
    "rotdiag = pd.read_csv(\"CH3CN_ROT.rotd.txt\", sep=\"\\t\", header=1)"
   ]
  },
  {
   "cell_type": "code",
   "execution_count": null,
   "metadata": {},
   "outputs": [],
   "source": []
  }
 ],
 "metadata": {
  "kernelspec": {
   "display_name": "Python 3",
   "language": "python",
   "name": "python3"
  },
  "language_info": {
   "codemirror_mode": {
    "name": "ipython",
    "version": 3
   },
   "file_extension": ".py",
   "mimetype": "text/x-python",
   "name": "python",
   "nbconvert_exporter": "python",
   "pygments_lexer": "ipython3",
   "version": "3.7.3"
  }
 },
 "nbformat": 4,
 "nbformat_minor": 2
}
