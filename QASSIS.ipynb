{
 "cells": [
  {
   "cell_type": "markdown",
   "metadata": {},
   "source": [
    "# QASSIS: Quality Algorithm to Search Stuff in Spectra"
   ]
  },
  {
   "cell_type": "code",
   "execution_count": 3,
   "metadata": {},
   "outputs": [],
   "source": [
    "import matplotlib.pyplot as plt\n",
    "import numpy as np\n",
    "import pandas as pd\n",
    "import scipy.signal as sig\n",
    "from lmfit import minimize, Parameters, fit_report, Model, Parameter\n",
    "import corner as corner\n",
    "#%matplotlib inline\n",
    "#from pylab import rcParams\n",
    "#rcParams['figure.figsize'] = 15, 10\n",
    "%matplotlib qt5"
   ]
  },
  {
   "cell_type": "code",
   "execution_count": 6,
   "metadata": {},
   "outputs": [],
   "source": [
    "# Get spectrum file\n",
    "spectrum_file = \"181_WSW_FTS200_3mm_average_data_Tmb.dat\"\n",
    "spectrum = np.loadtxt(spectrum_file)\n",
    "\n",
    "frequencies = spectrum[:,0]\n",
    "intensities = spectrum[:,1]\n",
    "\n",
    "# Get molecular catalog file\n",
    "molecule_name = \"HC3N\"\n",
    "molecule_file = \"HC3N.txt\"\n",
    "molecule_catalog = pd.read_csv(molecule_file, delimiter=\"\\t\", header=0, index_col=False)\n",
    "\n",
    "molecule_frequencies = molecule_catalog[\"Frequency(Ghz)\"]\n",
    "molecule_intensities = molecule_catalog[\"Intensity(K)\"]\n",
    "molecule_eup = molecule_catalog[\"Eup(K)\"]\n",
    "molecule_aij = molecule_catalog[\"Aij\"]\n",
    "molecule_transition = molecule_catalog[\"Transition\"]"
   ]
  },
  {
   "cell_type": "markdown",
   "metadata": {},
   "source": [
    "### OPTIONAL: Redshift spectrum by $v_{lsr}$ and convert to velocity units"
   ]
  },
  {
   "cell_type": "code",
   "execution_count": 7,
   "metadata": {},
   "outputs": [],
   "source": [
    "reference_frequency = 93750.7299\n",
    "vlsr = 0#7.1e+3 # m/s\n",
    "c = 2.998*1e8 # m/s \n",
    "\n",
    "def redshift(v):\n",
    "    return np.sqrt( (1 + (v/c)) / (1 - (v/c)) ) - 1 # = z\n",
    "\n",
    "#frequencies_shifted = np.array(frequencies)/(1+redshift(-6.8e+3))\n",
    "frequencies_shifted = frequencies#np.array(frequencies_shifted)/(1+redshift(vlsr))\n",
    "\n",
    "def freq_to_vel(freqs):\n",
    "    return np.array((c*reference_frequency - c*freqs) / reference_frequency)\n",
    "   \n",
    "velocities = freq_to_vel(frequencies_shifted)/1000 # km/s\n",
    "plt.step(velocities[intensities>-100], intensities[intensities>-100], color=\"black\", linewidth=0.5)\n",
    "\n",
    "plt.xlabel(\"Velocity [km/s]\", fontsize=15)\n",
    "plt.ylabel(\"Intensity [K]\", fontsize=15)\n",
    "\n",
    "\n",
    "frequencies = freq_to_vel(frequencies_shifted)/1000\n",
    "molecule_frequencies = freq_to_vel(molecule_catalog[\"Frequency(Ghz)\"])/1000\n",
    "\n",
    "plt.vlines(molecule_frequencies, 0,1, color=\"red\")\n",
    "plt.show()\n"
   ]
  },
  {
   "cell_type": "code",
   "execution_count": 8,
   "metadata": {},
   "outputs": [
    {
     "name": "stdout",
     "output_type": "stream",
     "text": [
      "[67048.6856544463, 8863.58306827433, -20228.655156102413, -49320.26916176575]\n"
     ]
    }
   ],
   "source": [
    "# Find possible emission lines\n",
    "width = 1\n",
    "\n",
    "peaks = sig.find_peaks(intensities)[0]\n",
    "peak_intensities = intensities[peaks]\n",
    "peak_frequencies = frequencies[peaks]\n",
    "\n",
    "noise = 2*5e-3\n",
    "rms = [5*5e-3 for p in peak_frequencies]\n",
    "\n",
    "emission_line_frequencies = []\n",
    "emission_line_intensities = []\n",
    "emission_line_eup = []\n",
    "emission_line_aij = []\n",
    "emission_line_transition = []\n",
    "\n",
    "for i,f1 in enumerate(peak_frequencies):\n",
    "    for j,f2 in enumerate(molecule_frequencies):\n",
    "        if abs(f1-f2) < width and peak_intensities[i]>rms[i]:\n",
    "            emission_line_frequencies.append(f1)\n",
    "            emission_line_intensities.append(peak_intensities[i])\n",
    "            emission_line_eup.append(molecule_eup[j])\n",
    "            emission_line_aij.append(molecule_aij[j])\n",
    "            emission_line_transition.append(molecule_transition[j])\n",
    "            \n",
    "print(emission_line_frequencies)"
   ]
  },
  {
   "cell_type": "markdown",
   "metadata": {},
   "source": [
    "# Fit Gaussians to Emission Lines\n"
   ]
  },
  {
   "cell_type": "code",
   "execution_count": 27,
   "metadata": {},
   "outputs": [
    {
     "name": "stderr",
     "output_type": "stream",
     "text": [
      "100%|██████████| 5000/5000 [00:33<00:00, 149.77it/s]\n",
      "  0%|          | 12/5000 [00:00<00:41, 119.78it/s]"
     ]
    },
    {
     "name": "stdout",
     "output_type": "stream",
     "text": [
      "[[Model]]\n",
      "    Model(gaussian)\n",
      "[[Fit Statistics]]\n",
      "    # fitting method   = emcee\n",
      "    # function evals   = 500000\n",
      "    # data points      = 13\n",
      "    # variables        = 3\n",
      "    chi-square         = 0.35025364\n",
      "    reduced chi-square = 0.03502536\n",
      "    Akaike info crit   = -40.9826117\n",
      "    Bayesian info crit = -39.2877636\n",
      "[[Variables]]\n",
      "    amp:  1.35339205 +/- 0.91121812 (67.33%) (init = 2.374853)\n",
      "    cen:  67048.7350 +/- 1.26594505 (0.00%) (init = 67048.81)\n",
      "    wid:  0.38297383 +/- 0.25009872 (65.30%) (init = 0.3)\n"
     ]
    },
    {
     "name": "stderr",
     "output_type": "stream",
     "text": [
      "100%|██████████| 5000/5000 [00:33<00:00, 149.96it/s]\n",
      "  0%|          | 14/5000 [00:00<00:37, 131.36it/s]"
     ]
    },
    {
     "name": "stdout",
     "output_type": "stream",
     "text": [
      "[[Model]]\n",
      "    Model(gaussian)\n",
      "[[Fit Statistics]]\n",
      "    # fitting method   = emcee\n",
      "    # function evals   = 500000\n",
      "    # data points      = 13\n",
      "    # variables        = 3\n",
      "    chi-square         = 0.13375055\n",
      "    reduced chi-square = 0.01337505\n",
      "    Akaike info crit   = -53.4974662\n",
      "    Bayesian info crit = -51.8026182\n",
      "[[Variables]]\n",
      "    amp:  0.99383819 +/- 0.67922799 (68.34%) (init = 1.565271)\n",
      "    cen:  8863.51200 +/- 1.60573726 (0.02%) (init = 8863.482)\n",
      "    wid:  0.40483039 +/- 0.24952673 (61.64%) (init = 0.3)\n"
     ]
    },
    {
     "name": "stderr",
     "output_type": "stream",
     "text": [
      "100%|██████████| 5000/5000 [00:33<00:00, 150.43it/s]\n",
      "  1%|          | 32/5000 [00:00<00:31, 158.31it/s]"
     ]
    },
    {
     "name": "stdout",
     "output_type": "stream",
     "text": [
      "[[Model]]\n",
      "    Model(gaussian)\n",
      "[[Fit Statistics]]\n",
      "    # fitting method   = emcee\n",
      "    # function evals   = 500000\n",
      "    # data points      = 13\n",
      "    # variables        = 3\n",
      "    chi-square         = 0.19508876\n",
      "    reduced chi-square = 0.01950888\n",
      "    Akaike info crit   = -48.5902499\n",
      "    Bayesian info crit = -46.8954018\n",
      "[[Variables]]\n",
      "    amp:  0.81005480 +/- 0.55415830 (68.41%) (init = 1.222057)\n",
      "    cen: -20228.4817 +/- 1.69432677 (0.01%) (init = -20228.47)\n",
      "    wid:  0.39801189 +/- 0.24432824 (61.39%) (init = 0.3)\n"
     ]
    },
    {
     "name": "stderr",
     "output_type": "stream",
     "text": [
      "100%|██████████| 5000/5000 [00:31<00:00, 160.91it/s]\n"
     ]
    },
    {
     "name": "stdout",
     "output_type": "stream",
     "text": [
      "[[Model]]\n",
      "    Model(gaussian)\n",
      "[[Fit Statistics]]\n",
      "    # fitting method   = emcee\n",
      "    # function evals   = 500000\n",
      "    # data points      = 13\n",
      "    # variables        = 3\n",
      "    chi-square         = 0.04933996\n",
      "    reduced chi-square = 0.00493400\n",
      "    Akaike info crit   = -66.4616142\n",
      "    Bayesian info crit = -64.7667662\n",
      "[[Variables]]\n",
      "    amp:  0.72928306 +/- 0.45608234 (62.54%) (init = 1.035754)\n",
      "    cen: -49320.0253 +/- 1.99200673 (0.00%) (init = -49320.12)\n",
      "    wid:  0.36787412 +/- 0.23857063 (64.85%) (init = 0.3)\n",
      "[[Correlations]] (unreported correlations are < 0.100)\n",
      "    C(amp, cen) =  0.147\n"
     ]
    }
   ],
   "source": [
    "# Define a window for each line\n",
    "\n",
    "window_size = 15 # default 5\n",
    "\n",
    "window_frequencies = []\n",
    "window_intensities = []\n",
    "\n",
    "for f in emission_line_frequencies:\n",
    "    window_f = frequencies[abs(frequencies-f)<window_size]\n",
    "    window_i = intensities[abs(frequencies-f)<window_size]\n",
    "    window_frequencies.append(window_f)\n",
    "    window_intensities.append(window_i)\n",
    "    \n",
    "# For each window, define what the BASELINE is\n",
    "\n",
    "baseline_frequencies = []\n",
    "baseline_intensities = []\n",
    "\n",
    "for i,window in enumerate(window_frequencies):\n",
    "    baseline_window_frequencies = []\n",
    "    baseline_window_intensities = []\n",
    "    for j,freq in enumerate(window):\n",
    "        if window_intensities[i][j] <= abs(noise) and abs(freq-emission_line_frequencies[i]) > 2*width:\n",
    "            baseline_window_frequencies.append(freq)\n",
    "            baseline_window_intensities.append(window_intensities[i][j])\n",
    "    baseline_frequencies.append(baseline_window_frequencies)\n",
    "    baseline_intensities.append(baseline_window_intensities)\n",
    "    \n",
    "# Fit a polynomial to the baseline\n",
    "degree = 2\n",
    "\n",
    "baseline_polynomials = []\n",
    "\n",
    "for i,baseline_window_frequencies in enumerate(baseline_frequencies):\n",
    "    baseline_fit = np.polyfit(baseline_window_frequencies, baseline_intensities[i], degree)\n",
    "    baseline = np.poly1d(baseline_fit)\n",
    "    baseline_polynomials.append(baseline)\n",
    "    \n",
    "# Subtract baseline polynomial from window intensities\n",
    "\n",
    "window_intensities_corrected = []\n",
    "\n",
    "for i,window in enumerate(window_intensities):\n",
    "    window_intensities_corrected.append(window_intensities[i]-baseline_polynomials[i](window_frequencies[i]))\n",
    "    \n",
    "# For each window, define what the LINE is\n",
    "\n",
    "line_frequencies = []\n",
    "line_intensities = []\n",
    "\n",
    "for i,window in enumerate(window_frequencies):\n",
    "    line_window_frequencies = []\n",
    "    line_window_intensities = []\n",
    "    for j,freq in enumerate(window):\n",
    "        if abs(freq-emission_line_frequencies[i]) <= 4*width:# and window_intensities_corrected[i][j]>=0:\n",
    "            window_intensities_corrected_nonzero = [x if x>0 else 0 for x in window_intensities_corrected[i]]\n",
    "            line_window_frequencies.append(freq)\n",
    "            line_window_intensities.append(window_intensities_corrected_nonzero[j])\n",
    "    line_frequencies.append(line_window_frequencies)\n",
    "    line_intensities.append(line_window_intensities)\n",
    "    \n",
    "# Fit a Gaussian to the line\n",
    "\n",
    "gaussian_fits = []\n",
    "\n",
    "def gaussian(x, amp, cen, wid):\n",
    "    \"\"\"1-d gaussian: gaussian(x, amp, cen, wid)\"\"\"\n",
    "    return (amp / (np.sqrt(2*np.pi) * wid)) * np.exp(-(x-cen)**2 / (2*wid**2))\n",
    "\n",
    "for i,line_f in enumerate(line_frequencies):\n",
    "    x = line_frequencies[i]\n",
    "    y = line_intensities[i]\n",
    "    \n",
    "    # Do least squares first\n",
    "    gmodel = Model(gaussian)\n",
    "    params = gmodel.make_params()\n",
    "    \n",
    "    init_amp = (emission_line_intensities[i]-baseline_polynomials[i](emission_line_frequencies[i]))*np.sqrt(2*np.pi)*0.5\n",
    "    \n",
    "    params[\"amp\"] = Parameter(name='amp', value=init_amp, min=init_amp*0.1, max=init_amp*2)\n",
    "    params[\"cen\"] = Parameter(name='cen', value=emission_line_frequencies[i], min=emission_line_frequencies[i]-3, max=emission_line_frequencies[i]+3)\n",
    "    params[\"wid\"] = Parameter(name='wid', value=0.5, min=0.1, max=1)\n",
    "    \n",
    "    result = gmodel.fit(y, x=x, params=params, method=\"leastsq\")\n",
    "    \n",
    "    # Now do MCMC\n",
    "    \n",
    "    #emcee_kws = dict(steps=5000, burn=500, thin=10)\n",
    "    emcee_kws = dict(steps=5000, burn=500, thin=10)\n",
    "    \n",
    "    amp = result.best_values[\"amp\"]\n",
    "    cen = result.best_values[\"cen\"]\n",
    "    wid = result.best_values[\"wid\"]\n",
    "    \n",
    "    gmodel = Model(gaussian)\n",
    "    params = gmodel.make_params()\n",
    "    params[\"amp\"] = Parameter(name='amp', value=init_amp, min=init_amp*0.1, max=init_amp*1.5)\n",
    "    params[\"cen\"] = Parameter(name='cen', value=cen, min=cen-3, max=cen+3)\n",
    "    params[\"wid\"] = Parameter(name='wid', value=0.3, min=0, max=0.7)\n",
    "    \n",
    "    result = gmodel.fit(y, x=x, params=params, method=\"emcee\", fit_kws=emcee_kws)\n",
    "\n",
    "    \n",
    "    \n",
    "    gaussian_fits.append(result)\n",
    "    print(result.fit_report())\n",
    "\n",
    "# Define a linspace in each window for plotting purposes\n",
    "\n",
    "window_linspaces = []\n",
    "for i,window in enumerate(window_frequencies):\n",
    "    window_linspaces.append(np.linspace(min(window), max(window),10000))"
   ]
  },
  {
   "cell_type": "code",
   "execution_count": null,
   "metadata": {},
   "outputs": [],
   "source": [
    "print(amp_err)"
   ]
  },
  {
   "cell_type": "markdown",
   "metadata": {},
   "source": [
    "## Check best fits"
   ]
  },
  {
   "cell_type": "code",
   "execution_count": 30,
   "metadata": {},
   "outputs": [],
   "source": [
    "for i,line in enumerate(window_intensities):\n",
    "\n",
    "    plt.subplot2grid((2,3),(i%2,i%3))\n",
    "    plt.step(window_frequencies[i], window_intensities[i], linewidth=2, c=\"black\")\n",
    "    plt.step(baseline_frequencies[i], baseline_intensities[i], linewidth=4, c=\"blue\", alpha=0.4)\n",
    "    plt.scatter(emission_line_frequencies[i], emission_line_intensities[i], s=50, c=\"red\")\n",
    "\n",
    "    F_linspace = np.linspace(min(window_frequencies[i]), max(window_frequencies[i]),100)\n",
    "    plt.plot(F_linspace, baseline_polynomials[i](F_linspace), color=\"blue\", linestyle=\"--\", linewidth=3, alpha=0.8)\n",
    "\n",
    "\n",
    "    plt.step(line_frequencies[i], line_intensities[i], linewidth=5, c=\"lime\", alpha=0.5)\n",
    "\n",
    "    plt.step(window_frequencies[i], window_intensities_corrected[i], c=\"red\", linewidth=1)\n",
    "\n",
    "    amp = np.median(gaussian_fits[i].flatchain[\"amp\"])\n",
    "    cen = np.median(gaussian_fits[i].flatchain[\"cen\"])\n",
    "    wid = np.median(gaussian_fits[i].flatchain[\"wid\"])\n",
    "    \n",
    "    #amp = gaussian_fits[i].best_values[\"amp\"]\n",
    "    #cen = gaussian_fits[i].best_values[\"cen\"]\n",
    "    #wid = gaussian_fits[i].best_values[\"wid\"]\n",
    "    \n",
    "    gauss = gaussian(window_linspaces[i], amp, cen, wid)\n",
    "    plt.plot(window_linspaces[i], gauss, linestyle='--', color=\"magenta\", label='best fit', linewidth=3)\n",
    "\n",
    "    plt.fill_between(window_linspaces[i], y1=[0 for x in window_linspaces[i]], y2 =gauss , color=\"magenta\", alpha=0.5)\n",
    "\n",
    "plt.xlabel(\"Velocity [km/s]\", fontsize=15)\n",
    "plt.ylabel(\"Intensity [K]\", fontsize=15)\n",
    "\n",
    "plt.show()"
   ]
  },
  {
   "cell_type": "markdown",
   "metadata": {},
   "source": [
    "## Correlation plots to double check _emcee_ didn't go insane"
   ]
  },
  {
   "cell_type": "code",
   "execution_count": 29,
   "metadata": {},
   "outputs": [],
   "source": [
    "for i,line in enumerate(window_intensities):\n",
    "    amp = np.median(gaussian_fits[i].flatchain[\"amp\"])\n",
    "    cen = np.median(gaussian_fits[i].flatchain[\"cen\"])\n",
    "    wid = np.median(gaussian_fits[i].flatchain[\"wid\"])\n",
    "    \n",
    "    amp_err = np.std(gaussian_fits[i].flatchain[\"amp\"])\n",
    "    cen_err = np.std(gaussian_fits[i].flatchain[\"cen\"])\n",
    "    wid_err = np.std(gaussian_fits[i].flatchain[\"wid\"])\n",
    "    \n",
    "    corner.corner(gaussian_fits[i].flatchain, bins=20, color=\"indigo\", smooth=True, smooth1d=True,\n",
    "             plot_datapoints=True, plot_density=False, fill_contours=True, levels=[0.67, 0.95,0.99],\n",
    "                 range=[(amp-10*amp_err, amp+10*amp_err),(cen-10*cen_err, cen+10*cen_err),(wid-10*wid_err, wid+10*wid_err)],\n",
    "                 labels=[\"Amplitude\", \"Center\", \"Gaussian Width\"])\n",
    "\n",
    "    \n",
    "    \n",
    "plt.show()\n",
    "    "
   ]
  },
  {
   "cell_type": "markdown",
   "metadata": {},
   "source": [
    "### Derive Rotation Diagrams"
   ]
  },
  {
   "cell_type": "code",
   "execution_count": 35,
   "metadata": {},
   "outputs": [],
   "source": [
    "# EVERYTHING IN CGS UNITS\n",
    "\n",
    "# Boltzmann Constant\n",
    "k = 1.3807 * 1e-16 \n",
    "\n",
    "# Dipole moment\n",
    "# CH3CN\n",
    "#mu = 3.9037 * 1e-18\n",
    "# CH3OH\n",
    "# mu = np.sqrt(0.899**2 + (-1.44)**2) * 1e-18\n",
    "# CH2CO\n",
    "#mu = 1.422 * 1e-18\n",
    "# CH3CCH\n",
    "#mu = 0.784 * 1e-18\n",
    "# HC3N\n",
    "mu = 3.730 * 1e-18\n",
    "\n",
    "# Transition strength\n",
    "# CH3CN\n",
    "# strength = np.array([79.48062, 84.80078, 101.74150, 105.98313, 123.64362, 127.17758])/(3.9037**2)\n",
    "# CH3OH\n",
    "# strength = np.array([3.08327, 1.21365, 1.61697, 1.61649, 0.97862]) / (np.sqrt(0.899**2 + (-1.44)**2))\n",
    "# CH2CO\n",
    "#strength = np.array([28.79393, 9.99777, 28.79435]) / (1.422**2)\n",
    "# CH3CCH\n",
    "#strength = np.array([1.79654, 1.87136, 1.99592, 2.18328, 2.24559]) / (0.784 **2)\n",
    "# HC3N\n",
    "strength = np.array([111.41550, 139.25442, 153.16666, 167.09368]) / (3.730 **2)\n",
    "\n",
    "# The integral from -inf to inf is the amp parameter. Convert to K.cm/s\n",
    "\n",
    "flux = [np.median(fit.flatchain[\"amp\"])*100000 for fit in gaussian_fits] # in K . cm/s\n",
    "flux_err = [np.std(fit.flatchain[\"amp\"])*100000 for fit in gaussian_fits] # in K . cm/s\n",
    "\n",
    "centers = [reference_frequency*(c-np.median(fit.flatchain[\"cen\"])*1000)/c *1e6 for fit in gaussian_fits]\n",
    "\n",
    "# Upper-level populations Nu/gu\n",
    "# factor of 10000 ti\n",
    "lnnugu = np.log((3*k*np.array(flux))/(8*(np.pi**3)*np.array(centers)*(mu**2)*np.array(strength)))\n",
    "\n",
    "nugu_err = ((3*k*np.array(flux_err))/(8*(np.pi**3)*np.array(centers)*(mu**2)*np.array(strength)))\n",
    "lnnugu_err = nugu_err / np.exp(lnnugu)\n",
    "\n",
    "emission_line_eup = np.array(emission_line_eup)"
   ]
  },
  {
   "cell_type": "code",
   "execution_count": null,
   "metadata": {},
   "outputs": [],
   "source": [
    "print(centers)"
   ]
  },
  {
   "cell_type": "markdown",
   "metadata": {},
   "source": [
    "## Fit Rotation Diagram"
   ]
  },
  {
   "cell_type": "code",
   "execution_count": 36,
   "metadata": {},
   "outputs": [
    {
     "name": "stderr",
     "output_type": "stream",
     "text": [
      "100%|██████████| 4000/4000 [00:38<00:00, 103.63it/s]\n"
     ]
    },
    {
     "name": "stdout",
     "output_type": "stream",
     "text": [
      "[[Fit Statistics]]\n",
      "    # fitting method   = emcee\n",
      "    # function evals   = 400000\n",
      "    # data points      = 4\n",
      "    # variables        = 2\n",
      "    chi-square         = 0.05322938\n",
      "    reduced chi-square = 0.02661469\n",
      "    Akaike info crit   = -13.2777565\n",
      "    Bayesian info crit = -14.5051678\n",
      "[[Variables]]\n",
      "    T:         13.0817589 +/- 2.34525055 (17.93%) (init = 12.74103)\n",
      "    lnNugu_0:  25.2073527 +/- 0.39725524 (1.58%) (init = 25.23224)\n",
      "[[Correlations]] (unreported correlations are < 0.100)\n",
      "    C(T, lnNugu_0) = -0.705\n"
     ]
    }
   ],
   "source": [
    "def residual(params, eu, data, eps_data):\n",
    "    m = -1/params['T']\n",
    "    b = params['lnNugu_0']\n",
    "  \n",
    "    model = m*eu+b\n",
    "\n",
    "    return (data-model) / eps_data\n",
    "\n",
    "\n",
    "params = Parameters()\n",
    "params.add('T', value=10, min=0, max=100)\n",
    "params.add('lnNugu_0', value=20, min=15, max=30)\n",
    "\n",
    "\n",
    "out = minimize(residual, params, args=(np.array(emission_line_eup), lnnugu, lnnugu_err), method=\"leastsq\")\n",
    "\n",
    "T = out.params[\"T\"]\n",
    "lnNugu_0 = out.params[\"lnNugu_0\"]\n",
    "\n",
    "params = Parameters()\n",
    "params.add('T', value=T, min=T-4*T.stderr, max=T+4*T.stderr)\n",
    "params.add('lnNugu_0', value=lnNugu_0, min=lnNugu_0-4*lnNugu_0.stderr, max=lnNugu_0+4*lnNugu_0.stderr)\n",
    "\n",
    "out = minimize(residual, params, args=(np.array(emission_line_eup), lnnugu, lnnugu_err), method=\"emcee\", steps=4000, burn=400, thin=10)\n",
    "\n",
    "\n",
    "print(fit_report(out))\n",
    "\n",
    "T = np.median(out.flatchain[\"T\"])\n",
    "lnNugu_0 = np.median(out.flatchain[\"lnNugu_0\"])\n",
    "\n",
    "Eu_linspace = np.linspace(min(emission_line_eup), max(emission_line_eup), 1000)\n",
    "\n",
    "def rotdiag_model(Eu, T, lnNugu_0):\n",
    "    return lnNugu_0 - (1/T)*Eu\n",
    "\n",
    "plt.scatter(emission_line_eup, lnnugu, c=\"purple\")\n",
    "\n",
    "plt.errorbar(emission_line_eup, lnnugu, yerr=lnnugu_err, capsize=5, c=\"purple\", fmt=\"none\")\n",
    "\n",
    "plt.plot(Eu_linspace, rotdiag_model(Eu_linspace, T, lnNugu_0), color=\"indigo\", linestyle=\"--\")\n",
    "    \n",
    "plt.ylabel(\"$\\ln(N_u/g_u)$\", fontsize=15)\n",
    "plt.xlabel(\"$E_u/k$\", fontsize=15)\n",
    "plt.show()\n",
    "    \n"
   ]
  },
  {
   "cell_type": "code",
   "execution_count": 37,
   "metadata": {},
   "outputs": [],
   "source": [
    "T_err = np.std(out.flatchain[\"T\"])\n",
    "lnNugu_0_err = np.std(out.flatchain[\"lnNugu_0\"])\n",
    "    \n",
    "    \n",
    "corner.corner(out.flatchain, bins=20, color=\"darkcyan\", smooth=True, smooth1d=True,\n",
    "             plot_datapoints=True, plot_density=False, fill_contours=True, levels=[0.67, 0.95,0.99],\n",
    "                 range=[(T-10*T_err, T+10*T_err),(lnNugu_0-10*lnNugu_0_err, lnNugu_0+10*lnNugu_0_err)],\n",
    "                 labels=[\"$T_{rot}$\", \"$\\ln(N_u/g_u)$\"])\n",
    "\n",
    "plt.show()"
   ]
  },
  {
   "cell_type": "markdown",
   "metadata": {},
   "source": [
    "## Derive total column density $N_{tot}$ by approximating the rotational partition function $Q_{rot}$"
   ]
  },
  {
   "cell_type": "code",
   "execution_count": 38,
   "metadata": {},
   "outputs": [],
   "source": [
    "# CH3CN\n",
    "#Qrot = [13.8355, 28.4924, 64.0955, 164.3168, 449.0811, 1267.6705, 2628.0493]\n",
    "#Trot = [2.725, 5.0, 9.375, 18.75, 37.5, 75.0, 120.0]\n",
    "\n",
    "# CH3OH\n",
    "#Qrot = [11.889916, 26.719018, 78.173628, 274.987967, 920.963739, 2924.302297, 9750.039754]\n",
    "#Trot = [2.725, 5.0, 9.375, 18.75, 37.5, 75.0, 150.0]\n",
    "\n",
    "# CH2CO\n",
    "#Qrot = [47.577, 157.217,  457.088,  1285.879, 3433.998]\n",
    "#Trot = [9.375, 18.75, 37.50, 75.00, 150.0]\n",
    "\n",
    "# CH3CCH\n",
    "#Qrot = [68.7664, 176.2982, 481.7197, 1362.3596, 4209.3392]\n",
    "#Trot = [9.375, 18.75, 37.5, 75.0, 150.0]\n",
    "\n",
    "# HC3N\n",
    "Qrot = [43.2767, 86.2186, 172.1063, 343.8929, 687.5086]\n",
    "Trot = [9.375, 18.75, 37.5, 75.0, 150.0]\n",
    "\n",
    "Qfit = np.polyfit(Trot, Qrot, 3)\n",
    "Q = np.poly1d(Qfit)\n",
    "\n",
    "T_linspace = np.linspace(min(Trot), max(Trot))\n",
    "plt.scatter(Trot, Qrot, c=\"black\")\n",
    "plt.plot(T_linspace, Q(T_linspace), color=\"black\")\n",
    "\n",
    "Qerr = np.sqrt((T*T_err)*(3*(Qfit[0]**2)*(T**4)+2*Qfit[1]*T**2+Qfit[1]**2))\n",
    "\n",
    "plt.errorbar([T], [Q(T)], yerr=Qerr , c=\"red\", fmt=\"*\", capsize=3)\n",
    "\n",
    "plt.ylabel(\"$Q_{rot}$\", fontsize=15)\n",
    "plt.xlabel(\"$T$\", fontsize=15)\n",
    "plt.show()"
   ]
  },
  {
   "cell_type": "code",
   "execution_count": 39,
   "metadata": {},
   "outputs": [],
   "source": [
    "lnNtot = lnNugu_0 + np.log(Q(T))\n",
    "lnNtot_err = np.sqrt((lnNugu_0_err)**2 + (Qerr/Q(T))**2)\n",
    "\n",
    "logNtot = np.log10(np.exp(lnNtot))\n",
    "logNtot_err = 0.434*(np.exp(lnNtot)*lnNtot_err/np.exp(lnNtot))\n",
    "\n",
    "rot_err = np.sqrt((lnNugu_0_err)**2 + (np.array(Eu_linspace)*T**(-2)*T_err)**2)"
   ]
  },
  {
   "cell_type": "code",
   "execution_count": 40,
   "metadata": {},
   "outputs": [],
   "source": [
    "Eu_linspace = np.linspace(min(emission_line_eup)-5, max(emission_line_eup)+5, 1000)\n",
    "\n",
    "plt.subplot2grid((1,7), (0,0), colspan=5)\n",
    "\n",
    "plt.errorbar(emission_line_eup, lnnugu, yerr=lnnugu_err, fmt=\"o\", capsize=3, color=\"black\")\n",
    "\n",
    "plt.ylabel(\"$\\log(N_u/g_u)$\", fontsize=20)\n",
    "plt.xlabel(\"$E_u/k$\", fontsize=20)\n",
    "\n",
    "#plt.fill_between(x=Eu_linspace, y1=rotdiag_model(Eu_linspace, T, lnNugu_0)-rot_err, y2=rotdiag_model(Eu_linspace, T, lnNugu_0)+rot_err, alpha=0.1, color=\"gray\")\n",
    "\n",
    "Tchain_burn = out.flatchain[\"T\"][::10]\n",
    "lnNugu_0chain_burn = out.flatchain[\"lnNugu_0\"][::10]\n",
    "\n",
    "for i,T in enumerate(Tchain_burn):\n",
    "    plt.plot(Eu_linspace, rotdiag_model(Eu_linspace, T, lnNugu_0chain_burn[i*10]), color=\"lime\", linestyle=\"-\", linewidth=0.01, alpha=0.5)\n",
    "    \n",
    "T_best = np.median(out.flatchain[\"T\"])\n",
    "lnNugu_0_best = np.median(out.flatchain[\"lnNugu_0\"])\n",
    "\n",
    "\n",
    "plt.plot(Eu_linspace, rotdiag_model(Eu_linspace, T_best, lnNugu_0_best), color=\"red\", linestyle=\"--\")\n",
    "        \n",
    "plt.ylim([14,30])\n",
    "\n",
    "plt.subplot2grid((1,7), (0,5), colspan=1)\n",
    "plt.errorbar([0], [logNtot], yerr=logNtot_err , c=\"black\", capsize=3)\n",
    "\n",
    "plt.fill_between(x=[-1,1],y1=0,y2=logNtot, color=\"red\", alpha=0.6)\n",
    "plt.title(\"$\\log_{10}(N_{tot})$\", fontsize=20)\n",
    "\n",
    "plt.xticks([])\n",
    "plt.ylim([0,20])\n",
    "\n",
    "plt.subplot2grid((1,7), (0,6), colspan=1)\n",
    "plt.errorbar([0], [T_best], yerr=T_err , c=\"black\", capsize=3)\n",
    "\n",
    "plt.fill_between(x=[-1,1],y1=0,y2=T_best, color=\"red\", alpha=0.6)\n",
    "plt.title(\"$T_{rot}$(K)\", fontsize=20)\n",
    "\n",
    "plt.xticks([])\n",
    "plt.ylim([0,50])\n",
    "plt.xticks(fontsize=18)\n",
    "plt.show()"
   ]
  },
  {
   "cell_type": "code",
   "execution_count": 45,
   "metadata": {},
   "outputs": [
    {
     "data": {
      "text/plain": [
       "13.0818"
      ]
     },
     "execution_count": 45,
     "metadata": {},
     "output_type": "execute_result"
    }
   ],
   "source": [
    "round(T_best,4)"
   ]
  },
  {
   "cell_type": "code",
   "execution_count": 46,
   "metadata": {},
   "outputs": [
    {
     "data": {
      "text/plain": [
       "2.062"
      ]
     },
     "execution_count": 46,
     "metadata": {},
     "output_type": "execute_result"
    }
   ],
   "source": [
    "round(T_err,4)"
   ]
  },
  {
   "cell_type": "code",
   "execution_count": 31,
   "metadata": {},
   "outputs": [
    {
     "data": {
      "text/plain": [
       "['HC3N, v=0 (8 _ 7) ',\n",
       " 'HC3N, v=0 (10 _ 9) ',\n",
       " 'HC3N, v=0 (11 _ 10) ',\n",
       " 'HC3N, v=0 (12 _ 11) ']"
      ]
     },
     "execution_count": 31,
     "metadata": {},
     "output_type": "execute_result"
    }
   ],
   "source": [
    "emission_line_transition"
   ]
  },
  {
   "cell_type": "code",
   "execution_count": 32,
   "metadata": {},
   "outputs": [
    {
     "name": "stdout",
     "output_type": "stream",
     "text": [
      "[15.719000000000001, 24.015, 28.818, 34.056999999999995]\n"
     ]
    }
   ],
   "source": [
    "print(emission_line_eup)"
   ]
  },
  {
   "cell_type": "code",
   "execution_count": 33,
   "metadata": {},
   "outputs": [
    {
     "name": "stdout",
     "output_type": "stream",
     "text": [
      "72783.875\n",
      "90978.991\n",
      "100076.451\n",
      "109173.716\n"
     ]
    }
   ],
   "source": [
    "for x in (-1*np.array(np.array(emission_line_frequencies)*1000*reference_frequency/c - reference_frequency)):\n",
    "    print(round(x,3))"
   ]
  },
  {
   "cell_type": "code",
   "execution_count": null,
   "metadata": {},
   "outputs": [],
   "source": [
    "print(freq_to_vel(np.array(emission_line_frequencies))/1000)"
   ]
  },
  {
   "cell_type": "code",
   "execution_count": null,
   "metadata": {},
   "outputs": [],
   "source": [
    "molecule_frequencies"
   ]
  },
  {
   "cell_type": "code",
   "execution_count": 41,
   "metadata": {},
   "outputs": [
    {
     "name": "stdout",
     "output_type": "stream",
     "text": [
      "24.0508\n",
      "23.2958\n",
      "22.9008\n",
      "22.6217\n"
     ]
    }
   ],
   "source": [
    "for x in lnnugu:\n",
    "    print(round(x,4))"
   ]
  },
  {
   "cell_type": "code",
   "execution_count": 42,
   "metadata": {
    "scrolled": true
   },
   "outputs": [
    {
     "name": "stdout",
     "output_type": "stream",
     "text": [
      "0.6197\n",
      "0.5977\n",
      "0.5902\n",
      "0.5482\n"
     ]
    }
   ],
   "source": [
    "for x in lnnugu_err:\n",
    "    print(round(x,4))"
   ]
  },
  {
   "cell_type": "code",
   "execution_count": 47,
   "metadata": {},
   "outputs": [
    {
     "data": {
      "text/plain": [
       "12.7274"
      ]
     },
     "execution_count": 47,
     "metadata": {},
     "output_type": "execute_result"
    }
   ],
   "source": [
    "round(logNtot,4)"
   ]
  },
  {
   "cell_type": "code",
   "execution_count": 48,
   "metadata": {},
   "outputs": [
    {
     "data": {
      "text/plain": [
       "0.1526"
      ]
     },
     "execution_count": 48,
     "metadata": {},
     "output_type": "execute_result"
    }
   ],
   "source": [
    "round(logNtot_err,4)"
   ]
  },
  {
   "cell_type": "code",
   "execution_count": 73,
   "metadata": {},
   "outputs": [],
   "source": [
    "abundances = np.array([10**11.6265,10**12.5165, 10**12.7274, 10**14.0074])/10**13.7300  \n",
    "errors = np.sqrt((np.array([10**0.3773, 10**0.4215, 10**0.1526, 10**0.2384]) / np.array([10**11.6265,10**12.5165, 10**12.7274, 10**14.0074]))**2 + (10**0.2795/10**13.7300)**2)\n",
    "plt.errorbar([1,2,3,4], abundances, yerr=errors, fmt=\"s\", color=\"black\")\n",
    "plt.xticks([1,2,3,4], labels=[\"$CH_3CN$\", \"$CH_2CO$\", \"$HC_3N$\", \"$CH_3CCH$\"], fontsize=15)\n",
    "plt.yticks(fontsize=15)\n",
    "plt.ylabel(\"N$_{tot}$ / N$_{tot}$[CH$_3$OH]\", fontsize=15)\n",
    "plt.yscale(\"log\")\n",
    "plt.show()"
   ]
  },
  {
   "cell_type": "code",
   "execution_count": null,
   "metadata": {},
   "outputs": [],
   "source": []
  }
 ],
 "metadata": {
  "kernelspec": {
   "display_name": "Python 3",
   "language": "python",
   "name": "python3"
  },
  "language_info": {
   "codemirror_mode": {
    "name": "ipython",
    "version": 3
   },
   "file_extension": ".py",
   "mimetype": "text/x-python",
   "name": "python",
   "nbconvert_exporter": "python",
   "pygments_lexer": "ipython3",
   "version": "3.7.3"
  }
 },
 "nbformat": 4,
 "nbformat_minor": 2
}
