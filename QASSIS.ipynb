{
 "cells": [
  {
   "cell_type": "markdown",
   "metadata": {},
   "source": [
    "# QASSIS: _Quality Algorithm to Search Stuff In Spectra_\n"
   ]
  },
  {
   "cell_type": "code",
   "execution_count": 200,
   "metadata": {},
   "outputs": [],
   "source": [
    "import matplotlib.pyplot as plt\n",
    "import numpy as np\n",
    "import pandas as pd\n",
    "import scipy.signal as sig\n",
    "from lmfit import minimize, Parameters, fit_report, Model\n",
    "\n",
    "%matplotlib qt5"
   ]
  },
  {
   "cell_type": "code",
   "execution_count": 98,
   "metadata": {},
   "outputs": [],
   "source": [
    "# Get spectrum file\n",
    "spectrum_file = \"181_WSW_FTS200_3mm_average_data_Tmb.dat\"\n",
    "spectrum = np.loadtxt(spectrum_file)\n",
    "\n",
    "frequencies = spectrum[:,0]\n",
    "intensities = spectrum[:,1]\n",
    "\n",
    "# Get molecular catalog file\n",
    "molecule_name = \"CH3CN\"\n",
    "molecule_file = \"CH3CN.txt\"\n",
    "molecule_catalog = pd.read_csv(molecule_file, delimiter=\"\\t\", header=0, index_col=False)\n",
    "\n",
    "molecule_frequencies = molecule_catalog[\"Frequency(Ghz)\"]\n",
    "molecule_intensities = molecule_catalog[\"Intensity(K)\"]"
   ]
  },
  {
   "cell_type": "code",
   "execution_count": 135,
   "metadata": {},
   "outputs": [],
   "source": [
    "# Find possible emission lines\n",
    "width = 0.5 \n",
    "\n",
    "peaks = sig.find_peaks(intensities)[0]\n",
    "peak_intensities = intensities[peaks]\n",
    "peak_frequencies = frequencies[peaks]\n",
    "\n",
    "noise = 3*5e-3\n",
    "rms = [5*5e-3 for p in peak_frequencies]\n",
    "\n",
    "emission_line_frequencies = []\n",
    "emission_line_intensities = []\n",
    "\n",
    "for i,f1 in enumerate(peak_frequencies):\n",
    "    for f2 in molecule_frequencies:\n",
    "        if abs(f1-f2) < width and peak_intensities[i]>rms[i]:\n",
    "            emission_line_frequencies.append(f1)\n",
    "            emission_line_intensities.append(peak_intensities[i])"
   ]
  },
  {
   "cell_type": "code",
   "execution_count": 243,
   "metadata": {},
   "outputs": [],
   "source": [
    "# Define a window for each line\n",
    "\n",
    "window_size = 5 # default 5\n",
    "\n",
    "window_frequencies = []\n",
    "window_intensities = []\n",
    "\n",
    "for f in emission_line_frequencies:\n",
    "    window_f = frequencies[abs(frequencies-f)<window_size]\n",
    "    window_i = intensities[abs(frequencies-f)<window_size]\n",
    "    window_frequencies.append(window_f)\n",
    "    window_intensities.append(window_i)\n",
    "    \n",
    "# For each window, define what the BASELINE is\n",
    "\n",
    "baseline_frequencies = []\n",
    "baseline_intensities = []\n",
    "\n",
    "for i,window in enumerate(window_frequencies):\n",
    "    baseline_window_frequencies = []\n",
    "    baseline_window_intensities = []\n",
    "    for j,freq in enumerate(window):\n",
    "        if window_intensities[i][j] <= abs(noise) and abs(freq-emission_line_frequencies[i]) > 2*width:\n",
    "            baseline_window_frequencies.append(freq)\n",
    "            baseline_window_intensities.append(window_intensities[i][j])\n",
    "    baseline_frequencies.append(baseline_window_frequencies)\n",
    "    baseline_intensities.append(baseline_window_intensities)\n",
    "    \n",
    "# Fit a polynomial to the baseline\n",
    "degree = 2\n",
    "\n",
    "baseline_polynomials = []\n",
    "\n",
    "for i,baseline_window_frequencies in enumerate(baseline_frequencies):\n",
    "    baseline_fit = np.polyfit(baseline_window_frequencies, baseline_intensities[i], degree)\n",
    "    baseline = np.poly1d(baseline_fit)\n",
    "    baseline_polynomials.append(baseline)\n",
    "    \n",
    "# Subtract baseline polynomial from window intensities\n",
    "\n",
    "window_intensities_corrected = []\n",
    "\n",
    "for i,window in enumerate(window_intensities):\n",
    "    window_intensities_corrected.append(window_intensities[i]-baseline_polynomials[i](window_frequencies[i]))\n",
    "    \n",
    "# For each window, define what the LINE is\n",
    "\n",
    "line_frequencies = []\n",
    "line_intensities = []\n",
    "\n",
    "for i,window in enumerate(window_frequencies):\n",
    "    line_window_frequencies = []\n",
    "    line_window_intensities = []\n",
    "    for j,freq in enumerate(window):\n",
    "        if abs(freq-emission_line_frequencies[i]) <= 1*width:\n",
    "            line_window_frequencies.append(freq)\n",
    "            line_window_intensities.append(window_intensities_corrected[i][j])\n",
    "    line_frequencies.append(line_window_frequencies)\n",
    "    line_intensities.append(line_window_intensities)\n",
    "    \n",
    "# Fit a Gaussian to the line\n",
    "\n",
    "gaussian_fits = []\n",
    "\n",
    "def gaussian(x, amp, cen, wid):\n",
    "    \"\"\"1-d gaussian: gaussian(x, amp, cen, wid)\"\"\"\n",
    "    return (amp / (np.sqrt(2*np.pi) * wid)) * np.exp(-(x-cen)**2 / (2*wid**2))\n",
    "\n",
    "for i,line_f in enumerate(line_frequencies):\n",
    "    x = line_frequencies[i]\n",
    "    y = line_intensities[i]\n",
    "    \n",
    "\n",
    "    gmodel = Model(gaussian)\n",
    "    result = gmodel.fit(y, x=x, amp=1e-3, cen=emission_line_frequencies[i], wid=width)\n",
    "    gaussian_fits.append(result)\n",
    "\n",
    "# Define a linspace in each window for plotting purposes\n",
    "\n",
    "window_linspaces = []\n",
    "for i,window in enumerate(window_frequencies):\n",
    "    window_linspaces.append(np.linspace(min(window), max(window),10000))"
   ]
  },
  {
   "cell_type": "code",
   "execution_count": 262,
   "metadata": {},
   "outputs": [],
   "source": [
    "for i,line in enumerate(window_intensities):\n",
    "\n",
    "    plt.subplot2grid((2,3),(i%2,i%3))\n",
    "    plt.step(window_frequencies[i], window_intensities[i], linewidth=2, c=\"black\")\n",
    "    plt.step(baseline_frequencies[i], baseline_intensities[i], linewidth=4, c=\"blue\", alpha=0.4)\n",
    "    plt.scatter(emission_line_frequencies[i], emission_line_intensities[i], s=50, c=\"red\")\n",
    "\n",
    "    F_linspace = np.linspace(min(window_frequencies[i]), max(window_frequencies[i]),100)\n",
    "    plt.plot(F_linspace, baseline_polynomials[i](F_linspace), color=\"blue\", linestyle=\"--\", linewidth=3, alpha=0.8)\n",
    "\n",
    "\n",
    "    plt.step(line_frequencies[i], line_intensities[i], linewidth=5, c=\"lime\", alpha=0.5)\n",
    "\n",
    "    plt.step(window_frequencies[i], window_intensities_corrected[i], c=\"red\", linewidth=1)\n",
    "\n",
    "    plt.plot(window_linspaces[i], gaussian(window_linspaces[i], gaussian_fits[i].best_values[\"amp\"], gaussian_fits[i].best_values[\"cen\"], gaussian_fits[i].best_values[\"wid\"]), linestyle='--', color=\"magenta\", label='best fit', linewidth=3)\n",
    "\n",
    "    plt.xlabel(\"Frequency [MHz]\", fontsize=15)\n",
    "    plt.ylabel(\"Intensity [K]\", fontsize=15)\n",
    "\n",
    "    plt.show()"
   ]
  },
  {
   "cell_type": "code",
   "execution_count": 116,
   "metadata": {},
   "outputs": [
    {
     "data": {
      "text/plain": [
       "<function matplotlib.pyplot.show(*args, **kw)>"
      ]
     },
     "execution_count": 116,
     "metadata": {},
     "output_type": "execute_result"
    }
   ],
   "source": [
    "plt.step(frequencies, intensities, linewidth=1, c=\"black\")\n",
    "plt.scatter(emission_line_frequencies, emission_line_intensities, s=20, c=\"red\")\n",
    "\n",
    "plt.ylim(-4,4)\n",
    "plt.show"
   ]
  },
  {
   "cell_type": "code",
   "execution_count": 261,
   "metadata": {},
   "outputs": [
    {
     "data": {
      "text/plain": [
       "1"
      ]
     },
     "execution_count": 261,
     "metadata": {},
     "output_type": "execute_result"
    }
   ],
   "source": [
    "5%2"
   ]
  },
  {
   "cell_type": "code",
   "execution_count": null,
   "metadata": {},
   "outputs": [],
   "source": []
  }
 ],
 "metadata": {
  "kernelspec": {
   "display_name": "Python 3",
   "language": "python",
   "name": "python3"
  },
  "language_info": {
   "codemirror_mode": {
    "name": "ipython",
    "version": 3
   },
   "file_extension": ".py",
   "mimetype": "text/x-python",
   "name": "python",
   "nbconvert_exporter": "python",
   "pygments_lexer": "ipython3",
   "version": "3.7.3"
  }
 },
 "nbformat": 4,
 "nbformat_minor": 2
}
