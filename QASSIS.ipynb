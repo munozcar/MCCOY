{
 "cells": [
  {
   "cell_type": "markdown",
   "metadata": {},
   "source": [
    "# QASSIS: Quality Algorithm to Search Stuff in Spectra"
   ]
  },
  {
   "cell_type": "code",
   "execution_count": 4,
   "metadata": {},
   "outputs": [],
   "source": [
    "import matplotlib.pyplot as plt\n",
    "import numpy as np\n",
    "import pandas as pd\n",
    "import scipy.signal as sig\n",
    "from lmfit import minimize, Parameters, fit_report, Model, Parameter\n",
    "import corner as corner\n",
    "#%matplotlib inline\n",
    "#from pylab import rcParams\n",
    "#rcParams['figure.figsize'] = 15, 10\n",
    "%matplotlib qt5"
   ]
  },
  {
   "cell_type": "code",
   "execution_count": 52,
   "metadata": {},
   "outputs": [],
   "source": [
    "# Get spectrum file\n",
    "spectrum_file = \"181_WSW_FTS200_3mm_average_data_Tmb.dat\"\n",
    "spectrum = np.loadtxt(spectrum_file)\n",
    "\n",
    "frequencies = spectrum[:,0]\n",
    "intensities = spectrum[:,1]\n",
    "\n",
    "# Get molecular catalog file\n",
    "molecule_name = \"CH3OH\"\n",
    "molecule_file = \"CH3OH.txt\"\n",
    "molecule_catalog = pd.read_csv(molecule_file, delimiter=\"\\t\", header=0, index_col=False)\n",
    "\n",
    "molecule_frequencies = molecule_catalog[\"Frequency(Ghz)\"]\n",
    "molecule_intensities = molecule_catalog[\"Intensity(K)\"]\n",
    "molecule_eup = molecule_catalog[\"Eup(K)\"]\n",
    "molecule_aij = molecule_catalog[\"Aij\"]\n",
    "molecule_transition = molecule_catalog[\"Transition\"]"
   ]
  },
  {
   "cell_type": "markdown",
   "metadata": {},
   "source": [
    "### OPTIONAL: Redshift spectrum by $v_{lsr}$ and convert to velocity units"
   ]
  },
  {
   "cell_type": "code",
   "execution_count": 53,
   "metadata": {},
   "outputs": [],
   "source": [
    "reference_frequency = 93750.7299\n",
    "vlsr = 7.1e+3 # m/s\n",
    "c = 2.998*1e8 # m/s \n",
    "\n",
    "def redshift(v):\n",
    "    return np.sqrt( (1 + (v/c)) / (1 - (v/c)) ) - 1 # = z\n",
    "\n",
    "frequencies_shifted = np.array(frequencies)/(1+redshift(-6.8e+3))\n",
    "frequencies_shifted = np.array(frequencies_shifted)/(1+redshift(vlsr))\n",
    "\n",
    "def freq_to_vel(freqs):\n",
    "    return np.array((c*reference_frequency - c*freqs) / reference_frequency)\n",
    "   \n",
    "velocities = freq_to_vel(frequencies_shifted)/1000 # km/s\n",
    "plt.step(velocities[intensities>-100], intensities[intensities>-100], color=\"black\", linewidth=0.5)\n",
    "\n",
    "plt.xlabel(\"Velocity [km/s]\", fontsize=15)\n",
    "plt.ylabel(\"Intensity [K]\", fontsize=15)\n",
    "\n",
    "\n",
    "frequencies = freq_to_vel(frequencies_shifted)/1000\n",
    "molecule_frequencies = freq_to_vel(molecule_catalog[\"Frequency(Ghz)\"])/1000\n",
    "\n",
    "plt.vlines(molecule_frequencies, 0,1, color=\"red\")\n",
    "plt.show()\n"
   ]
  },
  {
   "cell_type": "code",
   "execution_count": 54,
   "metadata": {},
   "outputs": [
    {
     "name": "stdout",
     "output_type": "stream",
     "text": [
      "[29514.733809426158, -9557.194615663433, -9563.440633957558, -9573.434199271323, -48425.506745728555]\n"
     ]
    }
   ],
   "source": [
    "# Find possible emission lines\n",
    "width = 1\n",
    "\n",
    "peaks = sig.find_peaks(intensities)[0]\n",
    "peak_intensities = intensities[peaks]\n",
    "peak_frequencies = frequencies[peaks]\n",
    "\n",
    "noise = 2*5e-3\n",
    "rms = [5*5e-3 for p in peak_frequencies]\n",
    "\n",
    "emission_line_frequencies = []\n",
    "emission_line_intensities = []\n",
    "emission_line_eup = []\n",
    "emission_line_aij = []\n",
    "emission_line_transition = []\n",
    "\n",
    "for i,f1 in enumerate(peak_frequencies):\n",
    "    for j,f2 in enumerate(molecule_frequencies):\n",
    "        if abs(f1-f2) < width and peak_intensities[i]>rms[i]:\n",
    "            emission_line_frequencies.append(f1)\n",
    "            emission_line_intensities.append(peak_intensities[i])\n",
    "            emission_line_eup.append(molecule_eup[j])\n",
    "            emission_line_aij.append(molecule_aij[j])\n",
    "            emission_line_transition.append(molecule_transition[j])\n",
    "            \n",
    "print(emission_line_frequencies)"
   ]
  },
  {
   "cell_type": "markdown",
   "metadata": {},
   "source": [
    "# Fit Gaussians to Emission Lines\n"
   ]
  },
  {
   "cell_type": "code",
   "execution_count": 56,
   "metadata": {},
   "outputs": [
    {
     "name": "stderr",
     "output_type": "stream",
     "text": [
      "100%|██████████| 5000/5000 [00:33<00:00, 149.87it/s]\n",
      "  0%|          | 13/5000 [00:00<00:40, 122.40it/s]"
     ]
    },
    {
     "name": "stdout",
     "output_type": "stream",
     "text": [
      "[[Model]]\n",
      "    Model(gaussian)\n",
      "[[Fit Statistics]]\n",
      "    # fitting method   = emcee\n",
      "    # function evals   = 500000\n",
      "    # data points      = 8\n",
      "    # variables        = 3\n",
      "    chi-square         = 2.3418e-04\n",
      "    reduced chi-square = 4.6835e-05\n",
      "    Akaike info crit   = -77.5110579\n",
      "    Bayesian info crit = -77.2727333\n",
      "[[Variables]]\n",
      "    amp:  0.02369421 +/- 0.00522440 (22.05%) (init = 0.02369403)\n",
      "    cen:  29514.7417 +/- 1.39698805 (0.00%) (init = 29514.79)\n",
      "    wid:  0.37101388 +/- 0.07656311 (20.64%) (init = 0.3710833)\n"
     ]
    },
    {
     "name": "stderr",
     "output_type": "stream",
     "text": [
      "100%|██████████| 5000/5000 [00:33<00:00, 150.69it/s]\n"
     ]
    },
    {
     "name": "stdout",
     "output_type": "stream",
     "text": [
      "[[Model]]\n",
      "    Model(gaussian)\n",
      "[[Fit Statistics]]\n",
      "    # fitting method   = emcee\n",
      "    # function evals   = 500000\n",
      "    # data points      = 8\n",
      "    # variables        = 3\n",
      "    chi-square         = 3.1421e-04\n",
      "    reduced chi-square = 6.2842e-05\n",
      "    Akaike info crit   = -75.1591062\n",
      "    Bayesian info crit = -74.9207816\n",
      "[[Variables]]\n",
      "    amp:  0.29626886 +/- 0.02668162 (9.01%) (init = 0.2961144)\n",
      "    cen: -9557.16358 +/- 1.35365662 (0.01%) (init = -9557.188)\n",
      "    wid:  0.43198226 +/- 0.03876783 (8.97%) (init = 0.4318201)\n"
     ]
    },
    {
     "ename": "TypeError",
     "evalue": "unsupported operand type(s) for *: 'int' and 'NoneType'",
     "output_type": "error",
     "traceback": [
      "\u001b[0;31m---------------------------------------------------------------------------\u001b[0m",
      "\u001b[0;31mTypeError\u001b[0m                                 Traceback (most recent call last)",
      "\u001b[0;32m<ipython-input-56-a979723e742f>\u001b[0m in \u001b[0;36m<module>\u001b[0;34m\u001b[0m\n\u001b[1;32m     90\u001b[0m     \u001b[0mgmodel\u001b[0m \u001b[0;34m=\u001b[0m \u001b[0mModel\u001b[0m\u001b[0;34m(\u001b[0m\u001b[0mgaussian\u001b[0m\u001b[0;34m)\u001b[0m\u001b[0;34m\u001b[0m\u001b[0;34m\u001b[0m\u001b[0m\n\u001b[1;32m     91\u001b[0m     \u001b[0mparams\u001b[0m \u001b[0;34m=\u001b[0m \u001b[0mgmodel\u001b[0m\u001b[0;34m.\u001b[0m\u001b[0mmake_params\u001b[0m\u001b[0;34m(\u001b[0m\u001b[0;34m)\u001b[0m\u001b[0;34m\u001b[0m\u001b[0;34m\u001b[0m\u001b[0m\n\u001b[0;32m---> 92\u001b[0;31m     \u001b[0mparams\u001b[0m\u001b[0;34m[\u001b[0m\u001b[0;34m\"amp\"\u001b[0m\u001b[0;34m]\u001b[0m \u001b[0;34m=\u001b[0m \u001b[0mParameter\u001b[0m\u001b[0;34m(\u001b[0m\u001b[0mname\u001b[0m\u001b[0;34m=\u001b[0m\u001b[0;34m'amp'\u001b[0m\u001b[0;34m,\u001b[0m \u001b[0mvalue\u001b[0m\u001b[0;34m=\u001b[0m\u001b[0mamp\u001b[0m\u001b[0;34m,\u001b[0m \u001b[0mmin\u001b[0m\u001b[0;34m=\u001b[0m\u001b[0mmax\u001b[0m\u001b[0;34m(\u001b[0m\u001b[0;36m0\u001b[0m\u001b[0;34m,\u001b[0m\u001b[0mamp\u001b[0m\u001b[0;34m-\u001b[0m\u001b[0;36m1\u001b[0m\u001b[0;34m*\u001b[0m\u001b[0mresult\u001b[0m\u001b[0;34m.\u001b[0m\u001b[0mparams\u001b[0m\u001b[0;34m[\u001b[0m\u001b[0;34m\"amp\"\u001b[0m\u001b[0;34m]\u001b[0m\u001b[0;34m.\u001b[0m\u001b[0mstderr\u001b[0m\u001b[0;34m)\u001b[0m\u001b[0;34m,\u001b[0m \u001b[0mmax\u001b[0m\u001b[0;34m=\u001b[0m\u001b[0mamp\u001b[0m\u001b[0;34m+\u001b[0m\u001b[0;36m1\u001b[0m\u001b[0;34m*\u001b[0m\u001b[0mresult\u001b[0m\u001b[0;34m.\u001b[0m\u001b[0mparams\u001b[0m\u001b[0;34m[\u001b[0m\u001b[0;34m\"amp\"\u001b[0m\u001b[0;34m]\u001b[0m\u001b[0;34m.\u001b[0m\u001b[0mstderr\u001b[0m\u001b[0;34m)\u001b[0m\u001b[0;34m\u001b[0m\u001b[0;34m\u001b[0m\u001b[0m\n\u001b[0m\u001b[1;32m     93\u001b[0m     \u001b[0mparams\u001b[0m\u001b[0;34m[\u001b[0m\u001b[0;34m\"cen\"\u001b[0m\u001b[0;34m]\u001b[0m \u001b[0;34m=\u001b[0m \u001b[0mParameter\u001b[0m\u001b[0;34m(\u001b[0m\u001b[0mname\u001b[0m\u001b[0;34m=\u001b[0m\u001b[0;34m'cen'\u001b[0m\u001b[0;34m,\u001b[0m \u001b[0mvalue\u001b[0m\u001b[0;34m=\u001b[0m\u001b[0mcen\u001b[0m\u001b[0;34m,\u001b[0m \u001b[0mmin\u001b[0m\u001b[0;34m=\u001b[0m\u001b[0mcen\u001b[0m\u001b[0;34m-\u001b[0m\u001b[0;36m2\u001b[0m\u001b[0;34m,\u001b[0m \u001b[0mmax\u001b[0m\u001b[0;34m=\u001b[0m\u001b[0mcen\u001b[0m\u001b[0;34m+\u001b[0m\u001b[0;36m2\u001b[0m\u001b[0;34m)\u001b[0m\u001b[0;34m\u001b[0m\u001b[0;34m\u001b[0m\u001b[0m\n\u001b[1;32m     94\u001b[0m     \u001b[0mparams\u001b[0m\u001b[0;34m[\u001b[0m\u001b[0;34m\"wid\"\u001b[0m\u001b[0;34m]\u001b[0m \u001b[0;34m=\u001b[0m \u001b[0mParameter\u001b[0m\u001b[0;34m(\u001b[0m\u001b[0mname\u001b[0m\u001b[0;34m=\u001b[0m\u001b[0;34m'wid'\u001b[0m\u001b[0;34m,\u001b[0m \u001b[0mvalue\u001b[0m\u001b[0;34m=\u001b[0m\u001b[0mwid\u001b[0m\u001b[0;34m,\u001b[0m \u001b[0mmin\u001b[0m\u001b[0;34m=\u001b[0m\u001b[0mmax\u001b[0m\u001b[0;34m(\u001b[0m\u001b[0;36m0\u001b[0m\u001b[0;34m,\u001b[0m\u001b[0mwid\u001b[0m\u001b[0;34m-\u001b[0m\u001b[0;36m1\u001b[0m\u001b[0;34m*\u001b[0m\u001b[0mresult\u001b[0m\u001b[0;34m.\u001b[0m\u001b[0mparams\u001b[0m\u001b[0;34m[\u001b[0m\u001b[0;34m\"wid\"\u001b[0m\u001b[0;34m]\u001b[0m\u001b[0;34m.\u001b[0m\u001b[0mstderr\u001b[0m\u001b[0;34m)\u001b[0m\u001b[0;34m,\u001b[0m \u001b[0mmax\u001b[0m\u001b[0;34m=\u001b[0m\u001b[0mwid\u001b[0m\u001b[0;34m+\u001b[0m\u001b[0;36m1\u001b[0m\u001b[0;34m*\u001b[0m\u001b[0mresult\u001b[0m\u001b[0;34m.\u001b[0m\u001b[0mparams\u001b[0m\u001b[0;34m[\u001b[0m\u001b[0;34m\"wid\"\u001b[0m\u001b[0;34m]\u001b[0m\u001b[0;34m.\u001b[0m\u001b[0mstderr\u001b[0m\u001b[0;34m)\u001b[0m\u001b[0;34m\u001b[0m\u001b[0;34m\u001b[0m\u001b[0m\n",
      "\u001b[0;31mTypeError\u001b[0m: unsupported operand type(s) for *: 'int' and 'NoneType'"
     ]
    }
   ],
   "source": [
    "# Define a window for each line\n",
    "\n",
    "window_size = 15 # default 5\n",
    "\n",
    "window_frequencies = []\n",
    "window_intensities = []\n",
    "\n",
    "for f in emission_line_frequencies:\n",
    "    window_f = frequencies[abs(frequencies-f)<window_size]\n",
    "    window_i = intensities[abs(frequencies-f)<window_size]\n",
    "    window_frequencies.append(window_f)\n",
    "    window_intensities.append(window_i)\n",
    "    \n",
    "# For each window, define what the BASELINE is\n",
    "\n",
    "baseline_frequencies = []\n",
    "baseline_intensities = []\n",
    "\n",
    "for i,window in enumerate(window_frequencies):\n",
    "    baseline_window_frequencies = []\n",
    "    baseline_window_intensities = []\n",
    "    for j,freq in enumerate(window):\n",
    "        if window_intensities[i][j] <= abs(noise) and abs(freq-emission_line_frequencies[i]) > 2*width:\n",
    "            baseline_window_frequencies.append(freq)\n",
    "            baseline_window_intensities.append(window_intensities[i][j])\n",
    "    baseline_frequencies.append(baseline_window_frequencies)\n",
    "    baseline_intensities.append(baseline_window_intensities)\n",
    "    \n",
    "# Fit a polynomial to the baseline\n",
    "degree = 2\n",
    "\n",
    "baseline_polynomials = []\n",
    "\n",
    "for i,baseline_window_frequencies in enumerate(baseline_frequencies):\n",
    "    baseline_fit = np.polyfit(baseline_window_frequencies, baseline_intensities[i], degree)\n",
    "    baseline = np.poly1d(baseline_fit)\n",
    "    baseline_polynomials.append(baseline)\n",
    "    \n",
    "# Subtract baseline polynomial from window intensities\n",
    "\n",
    "window_intensities_corrected = []\n",
    "\n",
    "for i,window in enumerate(window_intensities):\n",
    "    window_intensities_corrected.append(window_intensities[i]-baseline_polynomials[i](window_frequencies[i]))\n",
    "    \n",
    "# For each window, define what the LINE is\n",
    "\n",
    "line_frequencies = []\n",
    "line_intensities = []\n",
    "\n",
    "for i,window in enumerate(window_frequencies):\n",
    "    line_window_frequencies = []\n",
    "    line_window_intensities = []\n",
    "    for j,freq in enumerate(window):\n",
    "        if abs(freq-emission_line_frequencies[i]) <= 4*width and window_intensities_corrected[i][j]>=0:\n",
    "            line_window_frequencies.append(freq)\n",
    "            line_window_intensities.append(window_intensities_corrected[i][j])\n",
    "    line_frequencies.append(line_window_frequencies)\n",
    "    line_intensities.append(line_window_intensities)\n",
    "    \n",
    "# Fit a Gaussian to the line\n",
    "\n",
    "gaussian_fits = []\n",
    "\n",
    "def gaussian(x, amp, cen, wid):\n",
    "    \"\"\"1-d gaussian: gaussian(x, amp, cen, wid)\"\"\"\n",
    "    return (amp / (np.sqrt(2*np.pi) * wid)) * np.exp(-(x-cen)**2 / (2*wid**2))\n",
    "\n",
    "for i,line_f in enumerate(line_frequencies):\n",
    "    x = line_frequencies[i]\n",
    "    y = line_intensities[i]\n",
    "    \n",
    "    # Do least squares first\n",
    "    gmodel = Model(gaussian)\n",
    "    params = gmodel.make_params()\n",
    "    params[\"amp\"] = Parameter(name='amp', value=0.01)\n",
    "    params[\"cen\"] = Parameter(name='cen', value=emission_line_frequencies[i], min=emission_line_frequencies[i]-3, max=emission_line_frequencies[i]+3)\n",
    "    params[\"wid\"] = Parameter(name='wid', value=width)\n",
    "    \n",
    "    result = gmodel.fit(y, x=x, params=params, method=\"leastsq\")\n",
    "    \n",
    "    # Now do MCMC\n",
    "    \n",
    "    emcee_kws = dict(steps=5000, burn=100, thin=10)\n",
    "    \n",
    "    amp = result.best_values[\"amp\"]\n",
    "    cen = result.best_values[\"cen\"]\n",
    "    wid = result.best_values[\"wid\"]\n",
    "    \n",
    "    gmodel = Model(gaussian)\n",
    "    params = gmodel.make_params()\n",
    "    params[\"amp\"] = Parameter(name='amp', value=amp, min=max(0,amp-1*result.params[\"amp\"].stderr), max=amp+1*result.params[\"amp\"].stderr)\n",
    "    params[\"cen\"] = Parameter(name='cen', value=cen, min=cen-2, max=cen+2)\n",
    "    params[\"wid\"] = Parameter(name='wid', value=wid, min=max(0,wid-1*result.params[\"wid\"].stderr), max=wid+1*result.params[\"wid\"].stderr)\n",
    "    \n",
    "    result = gmodel.fit(y, x=x, params=params, method=\"emcee\", fit_kws=emcee_kws)\n",
    "\n",
    "    \n",
    "    \n",
    "    gaussian_fits.append(result)\n",
    "    print(result.fit_report())\n",
    "\n",
    "# Define a linspace in each window for plotting purposes\n",
    "\n",
    "window_linspaces = []\n",
    "for i,window in enumerate(window_frequencies):\n",
    "    window_linspaces.append(np.linspace(min(window), max(window),10000))"
   ]
  },
  {
   "cell_type": "markdown",
   "metadata": {},
   "source": [
    "## Check best fits"
   ]
  },
  {
   "cell_type": "code",
   "execution_count": 10,
   "metadata": {},
   "outputs": [],
   "source": [
    "for i,line in enumerate(window_intensities):\n",
    "\n",
    "    plt.subplot2grid((2,3),(i%2,i%3))\n",
    "    plt.step(window_frequencies[i], window_intensities[i], linewidth=2, c=\"black\")\n",
    "    plt.step(baseline_frequencies[i], baseline_intensities[i], linewidth=4, c=\"blue\", alpha=0.4)\n",
    "    plt.scatter(emission_line_frequencies[i], emission_line_intensities[i], s=50, c=\"red\")\n",
    "\n",
    "    F_linspace = np.linspace(min(window_frequencies[i]), max(window_frequencies[i]),100)\n",
    "    plt.plot(F_linspace, baseline_polynomials[i](F_linspace), color=\"blue\", linestyle=\"--\", linewidth=3, alpha=0.8)\n",
    "\n",
    "\n",
    "    plt.step(line_frequencies[i], line_intensities[i], linewidth=5, c=\"lime\", alpha=0.5)\n",
    "\n",
    "    plt.step(window_frequencies[i], window_intensities_corrected[i], c=\"red\", linewidth=1)\n",
    "\n",
    "    amp = np.median(gaussian_fits[i].flatchain[\"amp\"])\n",
    "    cen = np.median(gaussian_fits[i].flatchain[\"cen\"])\n",
    "    wid = np.median(gaussian_fits[i].flatchain[\"wid\"])\n",
    "    \n",
    "    #amp = gaussian_fits[i].best_values[\"amp\"]\n",
    "    #cen = gaussian_fits[i].best_values[\"cen\"]\n",
    "    #wid = gaussian_fits[i].best_values[\"wid\"]\n",
    "    \n",
    "    gauss = gaussian(window_linspaces[i], amp, cen, wid)\n",
    "    plt.plot(window_linspaces[i], gauss, linestyle='--', color=\"magenta\", label='best fit', linewidth=3)\n",
    "\n",
    "    plt.fill_between(window_linspaces[i], y1=[0 for x in window_linspaces[i]], y2 =gauss , color=\"magenta\", alpha=0.5)\n",
    "\n",
    "plt.xlabel(\"Velocity [km/s]\", fontsize=15)\n",
    "plt.ylabel(\"Intensity [K]\", fontsize=15)\n",
    "\n",
    "plt.show()"
   ]
  },
  {
   "cell_type": "markdown",
   "metadata": {},
   "source": [
    "## Correlation plots to double check _emcee_ didn't go insane"
   ]
  },
  {
   "cell_type": "code",
   "execution_count": 10,
   "metadata": {},
   "outputs": [],
   "source": [
    "for i,line in enumerate(window_intensities):\n",
    "    amp = np.median(gaussian_fits[i].flatchain[\"amp\"])\n",
    "    cen = np.median(gaussian_fits[i].flatchain[\"cen\"])\n",
    "    wid = np.median(gaussian_fits[i].flatchain[\"wid\"])\n",
    "    \n",
    "    amp_err = np.std(gaussian_fits[i].flatchain[\"amp\"])\n",
    "    cen_err = np.std(gaussian_fits[i].flatchain[\"cen\"])\n",
    "    wid_err = np.std(gaussian_fits[i].flatchain[\"wid\"])\n",
    "    \n",
    "    corner.corner(gaussian_fits[i].flatchain, bins=20, color=\"indigo\", smooth=True, smooth1d=True,\n",
    "             plot_datapoints=True, plot_density=False, fill_contours=True, levels=[0.67, 0.95,0.99],\n",
    "                 range=[(amp-10*amp_err, amp+10*amp_err),(cen-10*cen_err, cen+10*cen_err),(wid-10*wid_err, wid+10*wid_err)],\n",
    "                 labels=[\"Amplitude\", \"Center\", \"Gaussian Width\"])\n",
    "\n",
    "    \n",
    "    \n",
    "plt.show()\n",
    "    "
   ]
  },
  {
   "cell_type": "markdown",
   "metadata": {},
   "source": [
    "### Derive Rotation Diagrams"
   ]
  },
  {
   "cell_type": "code",
   "execution_count": 11,
   "metadata": {},
   "outputs": [],
   "source": [
    "# EVERYTHING IN CGS UNITS\n",
    "\n",
    "# Boltzmann Constant\n",
    "k = 1.3807 * 1e-16 \n",
    "# Dipole moment\n",
    "\n",
    "# CH3CN\n",
    "mu = 3.9037 * 1e-18\n",
    "\n",
    "# CH3OH\n",
    "# mu = np.sqrt(0.899**2 + (-1.44)**2) * 1e-18\n",
    "\n",
    "# Transition strength\n",
    "# CH3CN\n",
    "strength = np.array([79.48062, 84.80078, 101.74150, 105.98313, 123.64362, 127.17758])/(3.9037**2)\n",
    "\n",
    "# CH3OH\n",
    "# strength = np.array([3.08327, 1.21365, 1.61697, 1.61649, 0.97862]) / (np.sqrt(0.899**2 + (-1.44)**2))\n",
    "\n",
    "\n",
    "# The integral from -inf to inf is the amp parameter. Convert to K.cm/s\n",
    "\n",
    "flux = [np.median(fit.flatchain[\"amp\"])*100000 for fit in gaussian_fits] # in K . cm/s\n",
    "flux_err = [np.std(fit.flatchain[\"amp\"])*100000 for fit in gaussian_fits] # in K . cm/s\n",
    "\n",
    "centers = [reference_frequency*(c-np.median(fit.flatchain[\"cen\"])*1000)/c *1e6 for fit in gaussian_fits]\n",
    "\n",
    "# Upper-level populations Nu/gu\n",
    "# factor of 10000 ti\n",
    "lnnugu = np.log((3*k*np.array(flux))/(8*(np.pi**3)*np.array(centers)*(mu**2)*np.array(strength)))\n",
    "\n",
    "nugu_err = ((3*k*np.array(flux_err))/(8*(np.pi**3)*np.array(centers)*(mu**2)*np.array(strength)))\n",
    "lnnugu_err = nugu_err / np.exp(lnnugu)\n",
    "\n",
    "emission_line_eup = np.array(emission_line_eup)"
   ]
  },
  {
   "cell_type": "code",
   "execution_count": 12,
   "metadata": {},
   "outputs": [
    {
     "name": "stdout",
     "output_type": "stream",
     "text": [
      "[73588715931.59872, 73590183331.40918, 91985239941.90466, 91987015895.21033, 110381218302.51036, 110383408417.44641]\n"
     ]
    }
   ],
   "source": [
    "print(centers)"
   ]
  },
  {
   "cell_type": "markdown",
   "metadata": {},
   "source": [
    "## Fit Rotation Diagram"
   ]
  },
  {
   "cell_type": "code",
   "execution_count": 13,
   "metadata": {},
   "outputs": [
    {
     "name": "stderr",
     "output_type": "stream",
     "text": [
      "100%|██████████| 4000/4000 [00:31<00:00, 125.38it/s]\n"
     ]
    },
    {
     "name": "stdout",
     "output_type": "stream",
     "text": [
      "[[Fit Statistics]]\n",
      "    # fitting method   = emcee\n",
      "    # function evals   = 400000\n",
      "    # data points      = 6\n",
      "    # variables        = 2\n",
      "    chi-square         = 194.339289\n",
      "    reduced chi-square = 48.5848222\n",
      "    Akaike info crit   = 24.8670764\n",
      "    Bayesian info crit = 24.4505954\n",
      "[[Variables]]\n",
      "    T:         18.3965719 +/- 1.55767373 (8.47%) (init = 18.15047)\n",
      "    lnNugu_0:  21.6875720 +/- 0.08179313 (0.38%) (init = 21.7004)\n",
      "[[Correlations]] (unreported correlations are < 0.100)\n",
      "    C(T, lnNugu_0) = -0.961\n"
     ]
    }
   ],
   "source": [
    "def residual(params, eu, data, eps_data):\n",
    "    m = -1/params['T']\n",
    "    b = params['lnNugu_0']\n",
    "  \n",
    "    model = m*eu+b\n",
    "\n",
    "    return (data-model) / eps_data\n",
    "\n",
    "\n",
    "params = Parameters()\n",
    "params.add('T', value=10, min=0, max=100)\n",
    "params.add('lnNugu_0', value=20, min=15, max=30)\n",
    "\n",
    "\n",
    "out = minimize(residual, params, args=(np.array(emission_line_eup), lnnugu, lnnugu_err), method=\"leastsq\")\n",
    "\n",
    "T = out.params[\"T\"]\n",
    "lnNugu_0 = out.params[\"lnNugu_0\"]\n",
    "\n",
    "params = Parameters()\n",
    "params.add('T', value=T, min=T-4*T.stderr, max=T+4*T.stderr)\n",
    "params.add('lnNugu_0', value=lnNugu_0, min=lnNugu_0-4*lnNugu_0.stderr, max=lnNugu_0+4*lnNugu_0.stderr)\n",
    "\n",
    "out = minimize(residual, params, args=(np.array(emission_line_eup), lnnugu, lnnugu_err), method=\"emcee\", steps=4000, burn=400, thin=10)\n",
    "\n",
    "\n",
    "print(fit_report(out))\n",
    "\n",
    "T = np.median(out.flatchain[\"T\"])\n",
    "lnNugu_0 = np.median(out.flatchain[\"lnNugu_0\"])\n",
    "\n",
    "Eu_linspace = np.linspace(min(emission_line_eup), max(emission_line_eup), 1000)\n",
    "\n",
    "def rotdiag_model(Eu, T, lnNugu_0):\n",
    "    return lnNugu_0 - (1/T)*Eu\n",
    "\n",
    "plt.scatter(emission_line_eup, lnnugu, c=\"purple\")\n",
    "\n",
    "plt.errorbar(emission_line_eup, lnnugu, yerr=lnnugu_err, capsize=5, c=\"purple\", fmt=\"none\")\n",
    "\n",
    "plt.plot(Eu_linspace, rotdiag_model(Eu_linspace, T, lnNugu_0), color=\"indigo\", linestyle=\"--\")\n",
    "    \n",
    "plt.ylabel(\"$\\ln(N_u/g_u)$\", fontsize=15)\n",
    "plt.xlabel(\"$E_u/k$\", fontsize=15)\n",
    "plt.show()\n",
    "    \n"
   ]
  },
  {
   "cell_type": "code",
   "execution_count": 20,
   "metadata": {},
   "outputs": [],
   "source": [
    "T_err = np.std(out.flatchain[\"T\"])\n",
    "lnNugu_0_err = np.std(out.flatchain[\"lnNugu_0\"])\n",
    "    \n",
    "    \n",
    "corner.corner(out.flatchain, bins=20, color=\"darkcyan\", smooth=True, smooth1d=True,\n",
    "             plot_datapoints=True, plot_density=False, fill_contours=True, levels=[0.67, 0.95,0.99],\n",
    "                 range=[(T-10*T_err, T+10*T_err),(lnNugu_0-10*lnNugu_0_err, lnNugu_0+10*lnNugu_0_err)],\n",
    "                 labels=[\"$T_{rot}$\", \"$\\ln(N_u/g_u)$\"])\n",
    "\n",
    "plt.show()"
   ]
  },
  {
   "cell_type": "markdown",
   "metadata": {},
   "source": [
    "## Derive total column density $N_{tot}$ by approximating the rotational partition function $Q_{rot}$"
   ]
  },
  {
   "cell_type": "code",
   "execution_count": 21,
   "metadata": {},
   "outputs": [],
   "source": [
    "# CH3CN\n",
    "Qrot = [13.8355, 28.4924, 64.0955, 164.3168, 449.0811, 1267.6705, 2628.0493]\n",
    "Trot = [2.725, 5.0, 9.375, 18.75, 37.5, 75.0, 120.0]\n",
    "\n",
    "# CH3OH\n",
    "#Qrot = [11.889916, 26.719018, 78.173628, 274.987967, 920.963739, 2924.302297, 9750.039754]\n",
    "#Trot = [2.725, 5.0, 9.375, 18.75, 37.5, 75.0, 150.0]\n",
    "\n",
    "Qfit = np.polyfit(Trot, Qrot, 3)\n",
    "Q = np.poly1d(Qfit)\n",
    "\n",
    "T_linspace = np.linspace(min(Trot), max(Trot))\n",
    "plt.scatter(Trot, Qrot, c=\"black\")\n",
    "plt.plot(T_linspace, Q(T_linspace), color=\"black\")\n",
    "\n",
    "Qerr = np.sqrt((T*T_err)*(3*(Qfit[0]**2)*(T**4)+2*Qfit[1]*T**2+Qfit[1]**2))\n",
    "\n",
    "plt.errorbar([T], [Q(T)], yerr=Qerr , c=\"red\", fmt=\"*\", capsize=3)\n",
    "\n",
    "plt.ylabel(\"$Q_{rot}$\", fontsize=15)\n",
    "plt.xlabel(\"$T$\", fontsize=15)\n",
    "plt.show()"
   ]
  },
  {
   "cell_type": "code",
   "execution_count": 22,
   "metadata": {},
   "outputs": [],
   "source": [
    "lnNtot = lnNugu_0 + np.log(Q(T))\n",
    "lnNtot_err = np.sqrt((lnNugu_0_err)**2 + (Qerr/Q(T))**2)\n",
    "\n",
    "logNtot = np.log10(np.exp(lnNtot))\n",
    "logNtot_err = 0.434*(np.exp(lnNtot)*lnNtot_err/np.exp(lnNtot))\n",
    "\n",
    "rot_err = np.sqrt((lnNugu_0_err)**2 + (np.array(Eu_linspace)*T**(-2)*T_err)**2)"
   ]
  },
  {
   "cell_type": "code",
   "execution_count": 49,
   "metadata": {},
   "outputs": [],
   "source": [
    "Eu_linspace = np.linspace(min(emission_line_eup)-5, max(emission_line_eup)+5, 1000)\n",
    "\n",
    "plt.subplot2grid((1,7), (0,0), colspan=5)\n",
    "\n",
    "plt.errorbar(emission_line_eup, lnnugu, yerr=lnnugu_err, fmt=\"o\", capsize=3, color=\"black\")\n",
    "\n",
    "plt.ylabel(\"$\\log(N_u/g_u)$\", fontsize=20)\n",
    "plt.xlabel(\"$E_u/k$\", fontsize=20)\n",
    "\n",
    "#plt.fill_between(x=Eu_linspace, y1=rotdiag_model(Eu_linspace, T, lnNugu_0)-rot_err, y2=rotdiag_model(Eu_linspace, T, lnNugu_0)+rot_err, alpha=0.1, color=\"gray\")\n",
    "\n",
    "Tchain_burn = out.flatchain[\"T\"][::10]\n",
    "lnNugu_0chain_burn = out.flatchain[\"lnNugu_0\"][::10]\n",
    "\n",
    "for i,T in enumerate(Tchain_burn):\n",
    "    plt.plot(Eu_linspace, rotdiag_model(Eu_linspace, T, lnNugu_0chain_burn[i*10]), color=\"lime\", linestyle=\"-\", linewidth=0.01, alpha=0.5)\n",
    "    \n",
    "T_best = np.median(out.flatchain[\"T\"])\n",
    "lnNugu_0_best = np.median(out.flatchain[\"lnNugu_0\"])\n",
    "\n",
    "\n",
    "plt.plot(Eu_linspace, rotdiag_model(Eu_linspace, T_best, lnNugu_0_best), color=\"red\", linestyle=\"--\")\n",
    "        \n",
    "plt.ylim([14,30])\n",
    "\n",
    "plt.subplot2grid((1,7), (0,5), colspan=1)\n",
    "plt.errorbar([0], [logNtot], yerr=logNtot_err , c=\"black\", capsize=3)\n",
    "\n",
    "plt.fill_between(x=[-1,1],y1=0,y2=logNtot, color=\"red\", alpha=0.6)\n",
    "plt.title(\"$\\log_{10}(N_{tot})$\", fontsize=20)\n",
    "\n",
    "plt.xticks([])\n",
    "plt.ylim([0,20])\n",
    "\n",
    "plt.subplot2grid((1,7), (0,6), colspan=1)\n",
    "plt.errorbar([0], [T_best], yerr=T_err , c=\"black\", capsize=3)\n",
    "\n",
    "plt.fill_between(x=[-1,1],y1=0,y2=T_best, color=\"red\", alpha=0.6)\n",
    "plt.title(\"$T_{rot}$(K)\", fontsize=20)\n",
    "\n",
    "plt.xticks([])\n",
    "plt.ylim([0,50])\n",
    "plt.xticks(fontsize=18)\n",
    "plt.show()"
   ]
  },
  {
   "cell_type": "code",
   "execution_count": null,
   "metadata": {},
   "outputs": [],
   "source": [
    "T_best"
   ]
  },
  {
   "cell_type": "code",
   "execution_count": 43,
   "metadata": {},
   "outputs": [
    {
     "data": {
      "text/plain": [
       "['CH3CN (4 1 _ 3 1) ',\n",
       " 'CH3CN (4 0 _ 3 0) ',\n",
       " 'CH3CN (5 1 _ 4 1) ',\n",
       " 'CH3CN (5 0 _ 4 0) ',\n",
       " 'CH3CN (6 1 _ 5 1) ',\n",
       " 'CH3CN (6 0 _ 5 0) ']"
      ]
     },
     "execution_count": 43,
     "metadata": {},
     "output_type": "execute_result"
    }
   ],
   "source": [
    "emission_line_transition"
   ]
  },
  {
   "cell_type": "code",
   "execution_count": 38,
   "metadata": {},
   "outputs": [
    {
     "data": {
      "text/plain": [
       "[73588.7747, 73590.3372, 91985.2624, 91987.0202, 110381.359, 110383.508]"
      ]
     },
     "execution_count": 38,
     "metadata": {},
     "output_type": "execute_result"
    }
   ],
   "source": [
    "emission_line_frequencies"
   ]
  },
  {
   "cell_type": "code",
   "execution_count": 42,
   "metadata": {},
   "outputs": [
    {
     "name": "stdout",
     "output_type": "stream",
     "text": [
      "[ 64474.74249435  64469.74586659   5645.68571428   5640.06454802\n",
      " -53182.12038987 -53188.99255183]\n"
     ]
    }
   ],
   "source": [
    "print(freq_to_vel(np.array(emission_line_frequencies))/1000)"
   ]
  },
  {
   "cell_type": "code",
   "execution_count": 44,
   "metadata": {},
   "outputs": [
    {
     "name": "stdout",
     "output_type": "stream",
     "text": [
      "[15.975, 8.829, 20.39, 13.244000000000002, 25.686999999999998, 18.542]\n"
     ]
    }
   ],
   "source": [
    "print(emission_line_eup)"
   ]
  },
  {
   "cell_type": "code",
   "execution_count": 46,
   "metadata": {},
   "outputs": [
    {
     "data": {
      "text/plain": [
       "0      73577.451\n",
       "1      73584.543\n",
       "2      73588.799\n",
       "3      73590.218\n",
       "4      91958.726\n",
       "5      91971.130\n",
       "6      91979.994\n",
       "7      91985.314\n",
       "8      91987.088\n",
       "9     110349.470\n",
       "10    110364.354\n",
       "11    110374.989\n",
       "12    110381.372\n",
       "13    110383.500\n",
       "Name: Frequency(Ghz), dtype: float64"
      ]
     },
     "execution_count": 46,
     "metadata": {},
     "output_type": "execute_result"
    }
   ],
   "source": [
    "molecule_frequencies"
   ]
  },
  {
   "cell_type": "code",
   "execution_count": 47,
   "metadata": {},
   "outputs": [
    {
     "data": {
      "text/plain": [
       "array([21.39820741, 21.50550275, 20.81804032, 20.94366705, 20.10042412,\n",
       "       19.79503676])"
      ]
     },
     "execution_count": 47,
     "metadata": {},
     "output_type": "execute_result"
    }
   ],
   "source": [
    "lnnugu"
   ]
  },
  {
   "cell_type": "code",
   "execution_count": 51,
   "metadata": {},
   "outputs": [
    {
     "data": {
      "text/plain": [
       "0.1552091478833181"
      ]
     },
     "execution_count": 51,
     "metadata": {},
     "output_type": "execute_result"
    }
   ],
   "source": [
    "logNtot_err"
   ]
  },
  {
   "cell_type": "code",
   "execution_count": null,
   "metadata": {},
   "outputs": [],
   "source": []
  }
 ],
 "metadata": {
  "kernelspec": {
   "display_name": "Python 3",
   "language": "python",
   "name": "python3"
  },
  "language_info": {
   "codemirror_mode": {
    "name": "ipython",
    "version": 3
   },
   "file_extension": ".py",
   "mimetype": "text/x-python",
   "name": "python",
   "nbconvert_exporter": "python",
   "pygments_lexer": "ipython3",
   "version": "3.7.3"
  }
 },
 "nbformat": 4,
 "nbformat_minor": 2
}
