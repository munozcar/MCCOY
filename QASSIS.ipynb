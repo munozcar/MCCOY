{
 "cells": [
  {
   "cell_type": "markdown",
   "metadata": {},
   "source": [
    "# QASSIS: _Quality Algorithm to Search Stuff In Spectra_\n",
    "\n"
   ]
  },
  {
   "cell_type": "code",
   "execution_count": 595,
   "metadata": {},
   "outputs": [],
   "source": [
    "import matplotlib.pyplot as plt\n",
    "import numpy as np\n",
    "import pandas as pd\n",
    "import scipy.signal as sig\n",
    "from lmfit import minimize, Parameters, fit_report, Model, Parameter\n",
    "import corner as corner\n",
    "%matplotlib qt5"
   ]
  },
  {
   "cell_type": "code",
   "execution_count": 596,
   "metadata": {},
   "outputs": [],
   "source": [
    "# Get spectrum file\n",
    "spectrum_file = \"181_WSW_FTS200_3mm_average_data_Tmb.dat\"\n",
    "spectrum = np.loadtxt(spectrum_file)\n",
    "\n",
    "frequencies = spectrum[:,0]\n",
    "intensities = spectrum[:,1]\n",
    "\n",
    "# Get molecular catalog file\n",
    "molecule_name = \"CH3CN\"\n",
    "molecule_file = \"CH3CN.txt\"\n",
    "molecule_catalog = pd.read_csv(molecule_file, delimiter=\"\\t\", header=0, index_col=False)\n",
    "\n",
    "molecule_frequencies = molecule_catalog[\"Frequency(Ghz)\"]\n",
    "molecule_intensities = molecule_catalog[\"Intensity(K)\"]\n",
    "molecule_eup = molecule_catalog[\"Eup(K)\"]\n",
    "molecule_aij = molecule_catalog[\"Aij\"]\n",
    "molecule_transition = molecule_catalog[\"Transition\"]"
   ]
  },
  {
   "cell_type": "code",
   "execution_count": 597,
   "metadata": {},
   "outputs": [
    {
     "name": "stdout",
     "output_type": "stream",
     "text": [
      "[73588.7747, 73590.3372, 91985.2624, 91987.0202, 110381.359, 110383.508]\n"
     ]
    }
   ],
   "source": [
    "# Find possible emission lines\n",
    "width = 0.5 \n",
    "\n",
    "peaks = sig.find_peaks(intensities)[0]\n",
    "peak_intensities = intensities[peaks]\n",
    "peak_frequencies = frequencies[peaks]\n",
    "\n",
    "noise = 3*5e-3\n",
    "rms = [5*5e-3 for p in peak_frequencies]\n",
    "\n",
    "emission_line_frequencies = []\n",
    "emission_line_intensities = []\n",
    "emission_line_eup = []\n",
    "emission_line_aij = []\n",
    "emission_line_transition = []\n",
    "\n",
    "for i,f1 in enumerate(peak_frequencies):\n",
    "    for j,f2 in enumerate(molecule_frequencies):\n",
    "        if abs(f1-f2) < width and peak_intensities[i]>rms[i]:\n",
    "            emission_line_frequencies.append(f1)\n",
    "            emission_line_intensities.append(peak_intensities[i])\n",
    "            emission_line_eup.append(molecule_eup[j])\n",
    "            emission_line_aij.append(molecule_aij[j])\n",
    "            emission_line_transition.append(molecule_transition[j])\n",
    "            \n",
    "print(emission_line_frequencies)"
   ]
  },
  {
   "cell_type": "markdown",
   "metadata": {},
   "source": [
    "# Fit Gaussians to Emission Lines\n",
    "\n",
    "## Find best fit by least-squares and then feed that result to an MCMC algorithm because, well, why not? (*emcee*,  Dan Foreman-Mackey 2019)"
   ]
  },
  {
   "cell_type": "code",
   "execution_count": 598,
   "metadata": {},
   "outputs": [
    {
     "name": "stderr",
     "output_type": "stream",
     "text": [
      "  0%|          | 0/1000 [00:00<?, ?it/s]/Users/munozcar/anaconda3/lib/python3.7/site-packages/emcee/moves/red_blue.py:99: RuntimeWarning: invalid value encountered in double_scalars\n",
      "  lnpdiff = f + nlp - state.log_prob[j]\n",
      "100%|██████████| 1000/1000 [00:03<00:00, 252.19it/s]\n",
      "/Users/munozcar/anaconda3/lib/python3.7/site-packages/emcee/autocorr.py:36: RuntimeWarning: invalid value encountered in true_divide\n",
      "  acf /= acf[0]\n",
      "/Users/munozcar/anaconda3/lib/python3.7/site-packages/emcee/autocorr.py:41: RuntimeWarning: invalid value encountered in less\n",
      "  m = np.arange(len(taus)) < c * taus\n",
      "/Users/munozcar/anaconda3/lib/python3.7/site-packages/emcee/autocorr.py:99: RuntimeWarning: invalid value encountered in greater\n",
      "  flag = tol * tau_est > n_t\n",
      "  2%|▏         | 22/1000 [00:00<00:04, 217.86it/s]"
     ]
    },
    {
     "name": "stdout",
     "output_type": "stream",
     "text": [
      "[[Model]]\n",
      "    Model(gaussian)\n",
      "[[Fit Statistics]]\n",
      "    # fitting method   = emcee\n",
      "    # function evals   = 100000\n",
      "    # data points      = 3\n",
      "    # variables        = 3\n",
      "    chi-square         = 3.4156e-15\n",
      "    reduced chi-square = 3.4156e-15\n",
      "    Akaike info crit   = -97.2270679\n",
      "    Bayesian info crit = -99.9312310\n",
      "[[Variables]]\n",
      "    amp:  0.02052006 +/- 2.3257e-06 (0.01%) (init = 0.02052005)\n",
      "    cen:  73588.7981 +/- 6.52658531 (0.01%) (init = 73588.8)\n",
      "    wid:  0.17387412 +/- 2.1807e-05 (0.01%) (init = 0.1738741)\n"
     ]
    },
    {
     "name": "stderr",
     "output_type": "stream",
     "text": [
      "100%|██████████| 1000/1000 [00:07<00:00, 98.05it/s]\n",
      "  2%|▏         | 24/1000 [00:00<00:04, 213.98it/s]"
     ]
    },
    {
     "name": "stdout",
     "output_type": "stream",
     "text": [
      "[[Model]]\n",
      "    Model(gaussian)\n",
      "[[Fit Statistics]]\n",
      "    # fitting method   = emcee\n",
      "    # function evals   = 100000\n",
      "    # data points      = 5\n",
      "    # variables        = 3\n",
      "    chi-square         = 8.0439e-05\n",
      "    reduced chi-square = 4.0219e-05\n",
      "    Akaike info crit   = -49.1872527\n",
      "    Bayesian info crit = -50.3589390\n",
      "[[Variables]]\n",
      "    amp:  0.02386284 +/- 5.4848e-04 (2.30%) (init = 0.02386301)\n",
      "    cen:  73590.2313 +/- 5.79086205 (0.01%) (init = 73590.25)\n",
      "    wid:  0.13336063 +/- 0.00473874 (3.55%) (init = 0.1333593)\n"
     ]
    },
    {
     "name": "stderr",
     "output_type": "stream",
     "text": [
      "100%|██████████| 1000/1000 [00:07<00:00, 131.98it/s]\n",
      "  5%|▍         | 47/1000 [00:00<00:04, 228.24it/s]"
     ]
    },
    {
     "name": "stdout",
     "output_type": "stream",
     "text": [
      "[[Model]]\n",
      "    Model(gaussian)\n",
      "[[Fit Statistics]]\n",
      "    # fitting method   = emcee\n",
      "    # function evals   = 100000\n",
      "    # data points      = 4\n",
      "    # variables        = 3\n",
      "    chi-square         = 1.1693e-05\n",
      "    reduced chi-square = 1.1693e-05\n",
      "    Akaike info crit   = -44.9713817\n",
      "    Bayesian info crit = -46.8124986\n",
      "[[Variables]]\n",
      "    amp:  0.01865235 +/- 3.1833e-04 (1.71%) (init = 0.01865188)\n",
      "    cen:  91985.3329 +/- 9.36125853 (0.01%) (init = 91985.33)\n",
      "    wid:  0.13360480 +/- 0.00303241 (2.27%) (init = 0.1336039)\n"
     ]
    },
    {
     "name": "stderr",
     "output_type": "stream",
     "text": [
      "100%|██████████| 1000/1000 [00:06<00:00, 145.24it/s]\n",
      "  2%|▏         | 20/1000 [00:00<00:04, 197.30it/s]"
     ]
    },
    {
     "name": "stdout",
     "output_type": "stream",
     "text": [
      "[[Model]]\n",
      "    Model(gaussian)\n",
      "[[Fit Statistics]]\n",
      "    # fitting method   = emcee\n",
      "    # function evals   = 100000\n",
      "    # data points      = 4\n",
      "    # variables        = 3\n",
      "    chi-square         = 1.4746e-05\n",
      "    reduced chi-square = 1.4746e-05\n",
      "    Akaike info crit   = -44.0434336\n",
      "    Bayesian info crit = -45.8845505\n",
      "[[Variables]]\n",
      "    amp:  0.02207751 +/- 2.2787e-04 (1.03%) (init = 0.02207774)\n",
      "    cen:  91987.1029 +/- 10.0281506 (0.01%) (init = 91987.11)\n",
      "    wid:  0.12633712 +/- 0.00218729 (1.73%) (init = 0.1263394)\n",
      "[[Correlations]] (unreported correlations are < 0.100)\n",
      "    C(amp, wid) =  0.113\n"
     ]
    },
    {
     "name": "stderr",
     "output_type": "stream",
     "text": [
      "100%|██████████| 1000/1000 [00:09<00:00, 107.69it/s]\n",
      "  4%|▍         | 42/1000 [00:00<00:04, 206.83it/s]"
     ]
    },
    {
     "name": "stdout",
     "output_type": "stream",
     "text": [
      "[[Model]]\n",
      "    Model(gaussian)\n",
      "[[Fit Statistics]]\n",
      "    # fitting method   = emcee\n",
      "    # function evals   = 100000\n",
      "    # data points      = 5\n",
      "    # variables        = 3\n",
      "    chi-square         = 2.1646e-05\n",
      "    reduced chi-square = 1.0823e-05\n",
      "    Akaike info crit   = -55.7505668\n",
      "    Bayesian info crit = -56.9222530\n",
      "[[Variables]]\n",
      "    amp:  0.01157490 +/- 5.1239e-04 (4.43%) (init = 0.01157525)\n",
      "    cen:  110381.374 +/- 7.70636597 (0.01%) (init = 110381.4)\n",
      "    wid:  0.16475994 +/- 0.00861973 (5.23%) (init = 0.1647617)\n"
     ]
    },
    {
     "name": "stderr",
     "output_type": "stream",
     "text": [
      "100%|██████████| 1000/1000 [00:05<00:00, 179.77it/s]\n"
     ]
    },
    {
     "name": "stdout",
     "output_type": "stream",
     "text": [
      "[[Model]]\n",
      "    Model(gaussian)\n",
      "[[Fit Statistics]]\n",
      "    # fitting method   = emcee\n",
      "    # function evals   = 100000\n",
      "    # data points      = 5\n",
      "    # variables        = 3\n",
      "    chi-square         = 1.1530e-05\n",
      "    reduced chi-square = 5.7648e-06\n",
      "    Akaike info crit   = -58.9001234\n",
      "    Bayesian info crit = -60.0718097\n",
      "[[Variables]]\n",
      "    amp:  0.01027302 +/- 1.4099e-06 (0.01%) (init = 0.01027303)\n",
      "    cen:  110383.550 +/- 8.94792453 (0.01%) (init = 110383.6)\n",
      "    wid:  0.10745658 +/- 1.7772e-05 (0.02%) (init = 0.1074548)\n"
     ]
    }
   ],
   "source": [
    "# Define a window for each line\n",
    "\n",
    "window_size = 5 # default 5\n",
    "\n",
    "window_frequencies = []\n",
    "window_intensities = []\n",
    "\n",
    "for f in emission_line_frequencies:\n",
    "    window_f = frequencies[abs(frequencies-f)<window_size]\n",
    "    window_i = intensities[abs(frequencies-f)<window_size]\n",
    "    window_frequencies.append(window_f)\n",
    "    window_intensities.append(window_i)\n",
    "    \n",
    "# For each window, define what the BASELINE is\n",
    "\n",
    "baseline_frequencies = []\n",
    "baseline_intensities = []\n",
    "\n",
    "for i,window in enumerate(window_frequencies):\n",
    "    baseline_window_frequencies = []\n",
    "    baseline_window_intensities = []\n",
    "    for j,freq in enumerate(window):\n",
    "        if window_intensities[i][j] <= abs(noise) and abs(freq-emission_line_frequencies[i]) > 2*width:\n",
    "            baseline_window_frequencies.append(freq)\n",
    "            baseline_window_intensities.append(window_intensities[i][j])\n",
    "    baseline_frequencies.append(baseline_window_frequencies)\n",
    "    baseline_intensities.append(baseline_window_intensities)\n",
    "    \n",
    "# Fit a polynomial to the baseline\n",
    "degree = 2\n",
    "\n",
    "baseline_polynomials = []\n",
    "\n",
    "for i,baseline_window_frequencies in enumerate(baseline_frequencies):\n",
    "    baseline_fit = np.polyfit(baseline_window_frequencies, baseline_intensities[i], degree)\n",
    "    baseline = np.poly1d(baseline_fit)\n",
    "    baseline_polynomials.append(baseline)\n",
    "    \n",
    "# Subtract baseline polynomial from window intensities\n",
    "\n",
    "window_intensities_corrected = []\n",
    "\n",
    "for i,window in enumerate(window_intensities):\n",
    "    window_intensities_corrected.append(window_intensities[i]-baseline_polynomials[i](window_frequencies[i]))\n",
    "    \n",
    "# For each window, define what the LINE is\n",
    "\n",
    "line_frequencies = []\n",
    "line_intensities = []\n",
    "\n",
    "for i,window in enumerate(window_frequencies):\n",
    "    line_window_frequencies = []\n",
    "    line_window_intensities = []\n",
    "    for j,freq in enumerate(window):\n",
    "        if abs(freq-emission_line_frequencies[i]) <= 1*width and window_intensities_corrected[i][j]>=0:\n",
    "            line_window_frequencies.append(freq)\n",
    "            line_window_intensities.append(window_intensities_corrected[i][j])\n",
    "    line_frequencies.append(line_window_frequencies)\n",
    "    line_intensities.append(line_window_intensities)\n",
    "    \n",
    "# Fit a Gaussian to the line\n",
    "\n",
    "gaussian_fits = []\n",
    "\n",
    "def gaussian(x, amp, cen, wid):\n",
    "    \"\"\"1-d gaussian: gaussian(x, amp, cen, wid)\"\"\"\n",
    "    return (amp / (np.sqrt(2*np.pi) * wid)) * np.exp(-(x-cen)**2 / (2*wid**2))\n",
    "\n",
    "for i,line_f in enumerate(line_frequencies):\n",
    "    x = line_frequencies[i]\n",
    "    y = line_intensities[i]\n",
    "    \n",
    "    # Do least squares first\n",
    "    gmodel = Model(gaussian)\n",
    "    params = gmodel.make_params()\n",
    "    params[\"amp\"] = Parameter(name='amp', value=0.01)\n",
    "    params[\"cen\"] = Parameter(name='cen', value=emission_line_frequencies[i])\n",
    "    params[\"wid\"] = Parameter(name='wid', value=width)\n",
    "    \n",
    "    result = gmodel.fit(y, x=x, params=params, method=\"leastsq\")\n",
    "    \n",
    "    # Now do MCMC\n",
    "    \n",
    "    amp = result.best_values[\"amp\"]\n",
    "    cen = result.best_values[\"cen\"]\n",
    "    wid = result.best_values[\"wid\"]\n",
    "    \n",
    "    gmodel = Model(gaussian)\n",
    "    params = gmodel.make_params()\n",
    "    params[\"amp\"] = Parameter(name='amp', value=amp, min=max(0,amp-1*result.params[\"amp\"].stderr), max=amp+1*result.params[\"amp\"].stderr)\n",
    "    params[\"cen\"] = Parameter(name='cen', value=cen, min=cen-5*result.params[\"cen\"].stderr, max=cen+5*result.params[\"cen\"].stderr)\n",
    "    params[\"wid\"] = Parameter(name='wid', value=wid, min=max(0,wid-1*result.params[\"wid\"].stderr), max=wid+1*result.params[\"wid\"].stderr)\n",
    "    \n",
    "    result = gmodel.fit(y, x=x, params=params, method=\"emcee\")\n",
    "\n",
    "    \n",
    "    \n",
    "    gaussian_fits.append(result)\n",
    "    print(result.fit_report())\n",
    "\n",
    "# Define a linspace in each window for plotting purposes\n",
    "\n",
    "window_linspaces = []\n",
    "for i,window in enumerate(window_frequencies):\n",
    "    window_linspaces.append(np.linspace(min(window), max(window),10000))"
   ]
  },
  {
   "cell_type": "markdown",
   "metadata": {},
   "source": [
    "## Check best fits"
   ]
  },
  {
   "cell_type": "code",
   "execution_count": 599,
   "metadata": {},
   "outputs": [],
   "source": [
    "for i,line in enumerate(window_intensities):\n",
    "\n",
    "    plt.subplot2grid((2,3),(i%2,i%3))\n",
    "    plt.step(window_frequencies[i], window_intensities[i], linewidth=2, c=\"black\")\n",
    "    plt.step(baseline_frequencies[i], baseline_intensities[i], linewidth=4, c=\"blue\", alpha=0.4)\n",
    "    plt.scatter(emission_line_frequencies[i], emission_line_intensities[i], s=50, c=\"red\")\n",
    "\n",
    "    F_linspace = np.linspace(min(window_frequencies[i]), max(window_frequencies[i]),100)\n",
    "    plt.plot(F_linspace, baseline_polynomials[i](F_linspace), color=\"blue\", linestyle=\"--\", linewidth=3, alpha=0.8)\n",
    "\n",
    "\n",
    "    plt.step(line_frequencies[i], line_intensities[i], linewidth=5, c=\"lime\", alpha=0.5)\n",
    "\n",
    "    plt.step(window_frequencies[i], window_intensities_corrected[i], c=\"red\", linewidth=1)\n",
    "\n",
    "    amp = np.median(gaussian_fits[i].flatchain[\"amp\"])\n",
    "    cen = np.median(gaussian_fits[i].flatchain[\"cen\"])\n",
    "    wid = np.median(gaussian_fits[i].flatchain[\"wid\"])\n",
    "    \n",
    "    #amp = gaussian_fits[i].best_values[\"amp\"]\n",
    "    #cen = gaussian_fits[i].best_values[\"cen\"]\n",
    "    #wid = gaussian_fits[i].best_values[\"wid\"]\n",
    "    \n",
    "    gauss = gaussian(window_linspaces[i], amp, cen, wid)\n",
    "    plt.plot(window_linspaces[i], gauss, linestyle='--', color=\"magenta\", label='best fit', linewidth=3)\n",
    "\n",
    "    plt.fill_between(window_linspaces[i], y1=[0 for x in window_linspaces[i]], y2 =gauss , color=\"magenta\", alpha=0.5)\n",
    "\n",
    "plt.xlabel(\"Frequency [MHz]\", fontsize=15)\n",
    "plt.ylabel(\"Intensity [K]\", fontsize=15)\n",
    "\n",
    "plt.show()"
   ]
  },
  {
   "cell_type": "markdown",
   "metadata": {},
   "source": [
    "## Correlation plots to double check _emcee_ didn't go insane"
   ]
  },
  {
   "cell_type": "code",
   "execution_count": 600,
   "metadata": {},
   "outputs": [],
   "source": [
    "for i,line in enumerate(window_intensities):\n",
    "    amp = np.median(gaussian_fits[i].flatchain[\"amp\"])\n",
    "    cen = np.median(gaussian_fits[i].flatchain[\"cen\"])\n",
    "    wid = np.median(gaussian_fits[i].flatchain[\"wid\"])\n",
    "    \n",
    "    amp_err = np.std(gaussian_fits[i].flatchain[\"amp\"])\n",
    "    cen_err = np.std(gaussian_fits[i].flatchain[\"cen\"])\n",
    "    wid_err = np.std(gaussian_fits[i].flatchain[\"wid\"])\n",
    "    \n",
    "    corner.corner(gaussian_fits[i].flatchain, bins=20, color=\"indigo\", smooth=True, smooth1d=True,\n",
    "             plot_datapoints=True, plot_density=False, fill_contours=True, levels=[0.67, 0.95,0.99],\n",
    "                 range=[(amp-10*amp_err, amp+10*amp_err),(cen-10*cen_err, cen+10*cen_err),(wid-10*wid_err, wid+10*wid_err)],\n",
    "                 labels=[\"Amplitude\", \"Center\", \"Gaussian Width\"])\n",
    "\n",
    "    \n",
    "    \n",
    "plt.show()\n",
    "    "
   ]
  },
  {
   "cell_type": "markdown",
   "metadata": {},
   "source": [
    "### Derive Rotation Diagrams"
   ]
  },
  {
   "cell_type": "code",
   "execution_count": 601,
   "metadata": {},
   "outputs": [],
   "source": [
    "# EVERYTHING IN CGS UNITS\n",
    "\n",
    "# Boltzmann Constant\n",
    "k = 1.3807 * 1e-16 \n",
    "# Dipole moment\n",
    "\n",
    "# CH3CN\n",
    "mu = 3.9037 * 1e-18\n",
    "\n",
    "# CH3CCH\n",
    "#mu = 0.784*3.33564*1e-30\n",
    "\n",
    "# Transition strength\n",
    "# CH3CN\n",
    "strength = [5.16717, 5.51304, 6.61439, 6.89014, 8.03828, 8.26803]\n",
    "\n",
    "# CH3CCH\n",
    "#strength = [4.80000, 5.00100, 5.33400, 5.83400, 6.00100]\n",
    "\n",
    "\n",
    "# The integral from -inf to inf is the amp parameter. Convert to K.cm/s\n",
    "\n",
    "flux = [np.median(fit.flatchain[\"amp\"])*100000 for fit in gaussian_fits] # in K . cm/s\n",
    "flux_err = [np.std(fit.flatchain[\"amp\"])*100000 for fit in gaussian_fits] # in K . cm/s\n",
    "# Upper-level populations Nu/gu\n",
    "\n",
    "lnnugu = np.log((3*k*np.array(flux))/(8*(np.pi**3)*(np.array(emission_line_frequencies)*1e6)*(mu**2)*np.array(strength)))\n",
    "\n",
    "nugu_err = ((3*k*np.array(flux_err))/(8*(np.pi**3)*(np.array(emission_line_frequencies)*1e6)*(mu**2)*np.array(strength)))\n",
    "lnnugu_err = nugu_err / np.exp(lnnugu)\n",
    "\n",
    "emission_line_eup = np.array(emission_line_eup)"
   ]
  },
  {
   "cell_type": "markdown",
   "metadata": {},
   "source": [
    "## Fit Rotation Diagram"
   ]
  },
  {
   "cell_type": "code",
   "execution_count": 611,
   "metadata": {},
   "outputs": [
    {
     "name": "stdout",
     "output_type": "stream",
     "text": [
      "[[Fit Statistics]]\n",
      "    # fitting method   = leastsq\n",
      "    # function evals   = 212\n",
      "    # data points      = 6\n",
      "    # variables        = 2\n",
      "    chi-square         = 23755.1728\n",
      "    reduced chi-square = 5938.79320\n",
      "    Akaike info crit   = 53.7027767\n",
      "    Bayesian info crit = 53.2862956\n",
      "[[Variables]]\n",
      "    T:         3.04161427 +/- 1.32241499 (43.48%) (init = 10)\n",
      "    lnNugu_0:  25.4498886 +/- 2.28357818 (8.97%) (init = 20)\n",
      "[[Correlations]] (unreported correlations are < 0.100)\n",
      "    C(T, lnNugu_0) = -1.000\n"
     ]
    }
   ],
   "source": [
    "def residual(params, eu, data, eps_data):\n",
    "    m = -1/params['T']\n",
    "    b = params['lnNugu_0']\n",
    "  \n",
    "    model = m*eu+b\n",
    "\n",
    "    return (data-model) / eps_data\n",
    "\n",
    "\n",
    "params = Parameters()\n",
    "params.add('T', value=10, min=0, max=50)\n",
    "params.add('lnNugu_0', value=20, min=15, max=30)\n",
    "\n",
    "\n",
    "out = minimize(residual, params, args=(np.array(emission_line_eup), lnnugu, lnnugu_err))\n",
    "\n",
    "print(fit_report(out))\n",
    "\n",
    "T = out.params[\"T\"]\n",
    "lnNugu_0 = out.params[\"lnNugu_0\"]\n",
    "\n",
    "Eu_linspace = np.linspace(min(emission_line_eup), max(emission_line_eup), 1000)\n",
    "\n",
    "def rotdiag_model(Eu, T, lnNugu_0):\n",
    "    return lnNugu_0 - (1/T)*Eu\n",
    "\n",
    "plt.scatter(emission_line_eup, lnnugu, c=\"purple\")\n",
    "\n",
    "plt.errorbar(emission_line_eup, lnnugu, yerr=lnnugu_err, capsize=5, c=\"purple\", fmt=\"none\")\n",
    "\n",
    "plt.plot(Eu_linspace, rotdiag_model(Eu_linspace, T, lnNugu_0), color=\"indigo\", linestyle=\"--\")\n",
    "    \n",
    "plt.ylabel(\"$\\ln(N_u/g_u)$\", fontsize=15)\n",
    "plt.xlabel(\"$E_u/k$\", fontsize=15)\n",
    "plt.show()"
   ]
  },
  {
   "cell_type": "code",
   "execution_count": 607,
   "metadata": {},
   "outputs": [
    {
     "data": {
      "text/plain": [
       "<ErrorbarContainer object of 3 artists>"
      ]
     },
     "execution_count": 607,
     "metadata": {},
     "output_type": "execute_result"
    }
   ],
   "source": [
    "plt.ylabel(\"$\\ln (N_u/g_u)$\", fontsize=15)\n",
    "plt.xlabel(\"$E_u/k$\", fontsize=15)\n",
    "plt.title(\"CH3CN\")\n",
    "plt.scatter(emission_line_eup, lnnugu, c=\"purple\")\n",
    "plt.errorbar(emission_line_eup, lnnugu, yerr=lnnugu_err, capsize=5, c=\"purple\", fmt=\"none\")\n"
   ]
  },
  {
   "cell_type": "code",
   "execution_count": 605,
   "metadata": {},
   "outputs": [
    {
     "data": {
      "text/plain": [
       "[110383.117, 110383.313, 110383.508, 110383.703, 110383.899]"
      ]
     },
     "execution_count": 605,
     "metadata": {},
     "output_type": "execute_result"
    }
   ],
   "source": [
    "x"
   ]
  },
  {
   "cell_type": "code",
   "execution_count": 594,
   "metadata": {},
   "outputs": [
    {
     "data": {
      "text/plain": [
       "array([15.975,  8.829, 20.39 , 13.244, 25.687, 18.542])"
      ]
     },
     "execution_count": 594,
     "metadata": {},
     "output_type": "execute_result"
    }
   ],
   "source": [
    "emission_line_eup"
   ]
  },
  {
   "cell_type": "code",
   "execution_count": null,
   "metadata": {},
   "outputs": [],
   "source": []
  }
 ],
 "metadata": {
  "kernelspec": {
   "display_name": "Python 3",
   "language": "python",
   "name": "python3"
  },
  "language_info": {
   "codemirror_mode": {
    "name": "ipython",
    "version": 3
   },
   "file_extension": ".py",
   "mimetype": "text/x-python",
   "name": "python",
   "nbconvert_exporter": "python",
   "pygments_lexer": "ipython3",
   "version": "3.7.3"
  }
 },
 "nbformat": 4,
 "nbformat_minor": 2
}
