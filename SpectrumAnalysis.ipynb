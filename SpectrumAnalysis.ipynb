{
 "cells": [
  {
   "cell_type": "markdown",
   "metadata": {},
   "source": [
    "# Spectrum Analysis\n",
    "\n",
    "#### This piece of code does the following so far:\n",
    "\n",
    "1. Reads spectrum data in ASCII format.\n",
    "\n",
    "2. Finds all \"peaks\" in the spectrum, consistent with a given flux threshold and line width. The desired prominence of the peaks can also be adjusted, if necessary. \n",
    "\n",
    "3. Identifies N most significant peaks\n",
    "\n",
    "4. Reads CASSIS line catalog.txt file for one or multiple molecule(s).\n",
    "\n",
    "5. Compares detected peaks in the spectrum with CASSIS data to identify the lines."
   ]
  },
  {
   "cell_type": "code",
   "execution_count": 146,
   "metadata": {},
   "outputs": [],
   "source": [
    "import matplotlib.pyplot as plt\n",
    "import numpy as np\n",
    "import pandas as pd\n",
    "import scipy.signal as sig\n",
    "\n",
    "%matplotlib qt5\n",
    "plt.style.use('default')"
   ]
  },
  {
   "cell_type": "markdown",
   "metadata": {},
   "source": [
    "### Obtain telescope spectrum data"
   ]
  },
  {
   "cell_type": "code",
   "execution_count": 147,
   "metadata": {},
   "outputs": [],
   "source": [
    "# LOAD ASCII FILE\n",
    "data = np.loadtxt(\"181_WSW_FTS200_3mm_average_data_Tmb.dat\")\n",
    "\n",
    "# RID OF GAPS IN THE COVERAGE\n",
    "gap = -1000\n",
    "freqs = data[:,0][data[:,1]!=gap] # FREQUENCY ARRAY \n",
    "temps = data[:,1][data[:,1]!=gap] # TEMPERATURE ARRAY \n",
    "\n",
    "\n",
    "# UNITS\n",
    "freq_units = \"MHz\"\n",
    "flux_units = \"K\"\n",
    "\n",
    "threshold = 5*5e-3 \n",
    "\n",
    "# FIND DATA ABOVE THRESHOLD\n",
    "passfreqs = freqs[temps>threshold]\n",
    "passtemps = temps[temps>threshold]\n",
    "\n",
    "# ASSUMED LINE WIDTH\n",
    "width = 0.5 #(MHz)"
   ]
  },
  {
   "cell_type": "markdown",
   "metadata": {},
   "source": [
    "### Find peaks"
   ]
  },
  {
   "cell_type": "code",
   "execution_count": 148,
   "metadata": {},
   "outputs": [],
   "source": [
    "peaks = sig.find_peaks(temps, height=threshold)[0]\n",
    "peaktemps = temps[peaks]\n",
    "peakfreqs = freqs[peaks]\n",
    "\n",
    "# Save N strongest lines separately\n",
    "N = 100\n",
    "maxtemps = sorted(peaktemps, reverse=True)[0:N]\n",
    "maxfreqs = [peakfreqs[list(peaktemps).index(i)] for i in maxtemps]"
   ]
  },
  {
   "cell_type": "markdown",
   "metadata": {},
   "source": [
    "### Visualize Probable Emission Lines. This only compares the peak temperature to the S/N . Many lines will be discriminated later based on their integrated intensities once a Gaussian is fit."
   ]
  },
  {
   "cell_type": "code",
   "execution_count": 163,
   "metadata": {},
   "outputs": [],
   "source": [
    "plt.scatter(passfreqs, passtemps, s=5, c=\"grey\")\n",
    "plt.plot(freqs[temps>0], temps[temps>0], c=\"black\", linewidth=0.5)\n",
    "plt.vlines(peakfreqs, ymin=-0.2, ymax=0, colors=\"lime\" , linewidth=0.5, label=\"Probable Emission Lines\")\n",
    "plt.vlines(maxfreqs, ymin=-0.2, ymax=0, colors=\"red\" , linewidth=1, label=\"Strongest {} Emission Lines\".format(N))\n",
    "plt.scatter(peakfreqs, peaktemps, s=50, c=\"green\", marker=\"*\", label=\"Peaks\")\n",
    "\n",
    "plt.xlabel(\"Frequency ({})\".format(freq_units), fontsize=15)\n",
    "plt.ylabel(\"Temperature ({})\".format(flux_units), fontsize=15)\n",
    "\n",
    "plt.ylim([-0.2,2])\n",
    "plt.legend()\n",
    "\n",
    "plt.show()"
   ]
  },
  {
   "cell_type": "markdown",
   "metadata": {},
   "source": [
    "## Hunt for Molecules"
   ]
  },
  {
   "cell_type": "markdown",
   "metadata": {},
   "source": [
    "### First, find EVERYTHING that might be produced by molecules on the catalog. "
   ]
  },
  {
   "cell_type": "code",
   "execution_count": 150,
   "metadata": {},
   "outputs": [],
   "source": [
    "def hunt(catalog, catalog_file):\n",
    "\n",
    "    # LOAD CASSIS CATALOGUE\n",
    "    catalog_freqs = pd.read_csv(catalog_file, sep=\"\\t\", usecols=[2])\n",
    "    catalog_freqs = catalog_freqs[\"Frequency(Ghz)\"]\n",
    "    \n",
    "    catalog_names = catalog_freqs.keys()\n",
    "    catalog_names = [m.split()[0] for m in catalog_names]\n",
    "\n",
    "    detections = []\n",
    "    \n",
    "    # COMPARE PEAKS WITH CASSIS CATALOGUE\n",
    "    for i,f1 in enumerate(catalog_freqs):\n",
    "        for j,f2 in enumerate(peakfreqs):\n",
    "            if abs(f1-f2) < 0.5*width:\n",
    "                detections.append([catalog_names[i], f1])\n",
    "                \n",
    "    return detections"
   ]
  },
  {
   "cell_type": "code",
   "execution_count": 151,
   "metadata": {},
   "outputs": [
    {
     "name": "stdout",
     "output_type": "stream",
     "text": [
      "Found 168 probable emission lines corresponding to Organics\n"
     ]
    }
   ],
   "source": [
    "catalog = \"Organics\"\n",
    "catalog_file = \"COMsCatalog.txt\"\n",
    "\n",
    "detections = hunt(catalog, catalog_file)\n",
    "            \n",
    "print(\"Found {} probable emission lines corresponding to {}\".format(len(detections), catalog))"
   ]
  },
  {
   "cell_type": "code",
   "execution_count": 164,
   "metadata": {},
   "outputs": [],
   "source": [
    "fig, ax = plt.subplots(constrained_layout=True)\n",
    "\n",
    "ax.step(freqs[temps>0], temps[temps>0], c=\"black\", linewidth=0.5)\n",
    "\n",
    "ax.set_ylabel(\"Temperature ({})\".format(flux_units), fontsize=15)\n",
    "\n",
    "ax.set_ylim([-0.2,2])\n",
    "\n",
    "ax.vlines([d[1] for d in detections], ymin=-0.2, ymax=0, colors=\"blue\" , linewidth=1, label=\"Probable Detections\")\n",
    "\n",
    "\n",
    "\n",
    "secax = ax.secondary_xaxis('top')\n",
    "secax.set_xlabel(\"Frequency ({})\".format(freq_units), fontsize=15)\n",
    "\n",
    "ax.set_xticks([d[1] for d in detections])\n",
    "ax.set_xticklabels([d[0] for d in detections], rotation=75, fontsize=10)\n",
    "\n",
    "plt.legend()\n",
    "plt.show()"
   ]
  },
  {
   "cell_type": "markdown",
   "metadata": {},
   "source": [
    "## Now, we count the individual molecules detected and determine how many transitions were found in the frequency range, compared to the expected lines."
   ]
  },
  {
   "cell_type": "markdown",
   "metadata": {},
   "source": [
    "### To start, determine the frequency range in which we will look for transitions (i.e. identify gaps in the coverage as intervals"
   ]
  },
  {
   "cell_type": "code",
   "execution_count": 153,
   "metadata": {},
   "outputs": [],
   "source": [
    "def get_coverage(frequencies, cutoff = 0.5):\n",
    "    intervals = []\n",
    "    \n",
    "    left = min(frequencies)\n",
    "    for i,f in enumerate(frequencies):\n",
    "        if frequencies[i]-frequencies[i-1] > cutoff and i>0:\n",
    "            right = frequencies[i-1]\n",
    "            intervals.append([left, right])\n",
    "            left = frequencies[i]\n",
    "    \n",
    "    intervals.append([left, max(frequencies)])\n",
    "    return intervals"
   ]
  },
  {
   "cell_type": "code",
   "execution_count": 154,
   "metadata": {},
   "outputs": [],
   "source": [
    "intervals = get_coverage(freqs)\n",
    "\n",
    "plt.step(freqs[temps>0], temps[temps>0], c=\"black\", linewidth=1)\n",
    "\n",
    "plt.xlabel(\"Frequency ({})\".format(freq_units), fontsize=15)\n",
    "plt.ylabel(\"Temperature ({})\".format(flux_units), fontsize=15)\n",
    "\n",
    "plt.ylim([-0.2,2])\n",
    "\n",
    "for interval in intervals:\n",
    "    plt.fill_betweenx(np.linspace(0,2,100), interval[0], interval[1], color=\"lime\", alpha=0.5)\n",
    "             \n",
    "plt.show()"
   ]
  },
  {
   "cell_type": "markdown",
   "metadata": {},
   "source": [
    "### Determine individual molecules and count transitions"
   ]
  },
  {
   "cell_type": "code",
   "execution_count": 155,
   "metadata": {},
   "outputs": [],
   "source": [
    "def find_individual(detections):\n",
    "    \n",
    "    molecules = []\n",
    "    \n",
    "    for mol in detections:\n",
    "        if mol[0] not in molecules:\n",
    "            molecules.append(mol[0])\n",
    "    \n",
    "    return(molecules)\n",
    "            \n",
    "\n",
    "def count_transitions(catalog_file, intervals, detections, molecules):\n",
    "    \n",
    "    # LOAD CATALOGUE\n",
    "    catalog_freqs = pd.read_csv(catalog_file, sep=\"\\t\", usecols=[2])\n",
    "    catalog_freqs = catalog_freqs[\"Frequency(Ghz)\"]\n",
    "    \n",
    "    catalog_names = catalog_freqs.keys()\n",
    "    catalog_names = [m.split()[0] for m in catalog_names]\n",
    "    \n",
    "    catalog = []\n",
    "    for i,f1 in enumerate(catalog_freqs):\n",
    "        catalog.append([catalog_names[i], f1])\n",
    "        \n",
    "    transitions = []\n",
    "    \n",
    "    found_lines = []\n",
    "    expected_lines = []\n",
    "        \n",
    "        \n",
    "    for mol in molecules:\n",
    "        found = 0\n",
    "        expected = 0\n",
    "        found_lines_mol = [] \n",
    "        expected_lines_mol = []\n",
    "        # COUNT TRANSITIONS FOUND IN SPECTRA\n",
    "        for line in detections:\n",
    "            if mol == line[0]:\n",
    "                found+=1\n",
    "                found_lines.append(line[1])\n",
    "                found_lines_mol.append(line[1])\n",
    "        # COUNT TOTAL EXPECTED TRANSITIONS IN FREQUENCY RANGE\n",
    "        for interval in intervals:\n",
    "            for cat_line in catalog:\n",
    "                if mol == cat_line[0] and interval[0] < cat_line[1] < interval[1]:\n",
    "                    expected+=1\n",
    "                    expected_lines.append(cat_line[1])\n",
    "                    expected_lines_mol.append(cat_line[1])\n",
    "        transitions.append([mol, found, expected, found_lines_mol, expected_lines_mol])  \n",
    "    \n",
    "    return transitions, found_lines, expected_lines\n",
    "    "
   ]
  },
  {
   "cell_type": "code",
   "execution_count": 156,
   "metadata": {},
   "outputs": [
    {
     "name": "stdout",
     "output_type": "stream",
     "text": [
      "There are at most 39 different molecules in the spectrum\n"
     ]
    }
   ],
   "source": [
    "molecules = find_individual(detections)\n",
    "Nmols = len(molecules)\n",
    "print(\"There are at most {} different molecules in the spectrum\".format(Nmols))"
   ]
  },
  {
   "cell_type": "code",
   "execution_count": 157,
   "metadata": {},
   "outputs": [
    {
     "name": "stdout",
     "output_type": "stream",
     "text": [
      "DCO+\n",
      "\t\tEXPECTED 1\tFOUND 1 \n",
      "HC7N\n",
      "\t\tEXPECTED 35\tFOUND 1 \n",
      "C2H3CN\n",
      "\t\tEXPECTED 763\tFOUND 17 \n",
      "CH3COOH,\n",
      "\t\tEXPECTED 1310\tFOUND 13 \n",
      "C3H7CN\n",
      "\t\tEXPECTED 511\tFOUND 8 \n",
      "CCS\n",
      "\t\tEXPECTED 11\tFOUND 8 \n",
      "CH3COCH3\n",
      "\t\tEXPECTED 882\tFOUND 9 \n",
      "HC3N,\n",
      "\t\tEXPECTED 4\tFOUND 4 \n",
      "OCS\n",
      "\t\tEXPECTED 4\tFOUND 3 \n",
      "C2H5OH,v=0\n",
      "\t\tEXPECTED 326\tFOUND 2 \n",
      "CH3CN\n",
      "\t\tEXPECTED 14\tFOUND 6 \n",
      "HC5N,\n",
      "\t\tEXPECTED 14\tFOUND 2 \n",
      "CCCS\n",
      "\t\tEXPECTED 6\tFOUND 5 \n",
      "C4H\n",
      "\t\tEXPECTED 40\tFOUND 20 \n",
      "DNC\n",
      "\t\tEXPECTED 1\tFOUND 1 \n",
      "CH3CHO\n",
      "\t\tEXPECTED 128\tFOUND 4 \n",
      "CH3OH,\n",
      "\t\tEXPECTED 39\tFOUND 5 \n",
      "HCS+\n",
      "\t\tEXPECTED 1\tFOUND 1 \n",
      "SO\n",
      "\t\tEXPECTED 4\tFOUND 3 \n",
      "CH3C3N\n",
      "\t\tEXPECTED 36\tFOUND 1 \n",
      "HNC-13\n",
      "\t\tEXPECTED 1\tFOUND 1 \n",
      "CCH\n",
      "\t\tEXPECTED 6\tFOUND 6 \n",
      "HNCO\n",
      "\t\tEXPECTED 6\tFOUND 2 \n",
      "HCN\n",
      "\t\tEXPECTED 3\tFOUND 3 \n",
      "HCO+\n",
      "\t\tEXPECTED 1\tFOUND 1 \n",
      "HNC\n",
      "\t\tEXPECTED 1\tFOUND 1 \n",
      "CH3NH2\n",
      "\t\tEXPECTED 85\tFOUND 1 \n",
      "c-C3HD\n",
      "\t\tEXPECTED 42\tFOUND 5 \n",
      "CS\n",
      "\t\tEXPECTED 1\tFOUND 1 \n",
      "CH2CO\n",
      "\t\tEXPECTED 7\tFOUND 3 \n",
      "H2CS\n",
      "\t\tEXPECTED 5\tFOUND 3 \n",
      "l-C3H2\n",
      "\t\tEXPECTED 7\tFOUND 2 \n",
      "C2H5CN\n",
      "\t\tEXPECTED 210\tFOUND 4 \n",
      "CO-17\n",
      "\t\tEXPECTED 3\tFOUND 3 \n",
      "CH3OCHO\n",
      "\t\tEXPECTED 424\tFOUND 4 \n",
      "CN,\n",
      "\t\tEXPECTED 9\tFOUND 9 \n",
      "C2H3CHO\n",
      "\t\tEXPECTED 117\tFOUND 1 \n",
      "CH3OCH3\n",
      "\t\tEXPECTED 280\tFOUND 3 \n",
      "C6H\n",
      "\t\tEXPECTED 58\tFOUND 1 \n"
     ]
    }
   ],
   "source": [
    "transitions, found_lines, expected_lines = count_transitions(catalog_file, intervals, detections, molecules)\n",
    "for mol in transitions:\n",
    "    print(\"{}\\n\\t\\tEXPECTED {}\\tFOUND {} \".format(mol[0], mol[2], mol[1]))"
   ]
  },
  {
   "cell_type": "code",
   "execution_count": 165,
   "metadata": {},
   "outputs": [],
   "source": [
    "rows = int(np.floor(np.sqrt(Nmols)))\n",
    "cols = int(rows+1)\n",
    "\n",
    "i = 0\n",
    "j = 0\n",
    "n = 0\n",
    "while i < rows:\n",
    "    while j < cols:\n",
    "        if n < Nmols:\n",
    "            plt.subplot2grid((rows, cols),(i,j))\n",
    "            plt.step(freqs[temps>0], temps[temps>0], c=\"black\", linewidth=1)\n",
    "            plt.vlines(transitions[n][4], ymin=-0.2, ymax=0, colors=\"blue\" , linewidth=0.6, alpha=1)\n",
    "            plt.vlines(transitions[n][3], ymin=-0.2, ymax=0, colors=\"red\" , linewidth=1)\n",
    "            plt.title(transitions[n][0])\n",
    "            plt.xlim(min(freqs)-1000, max(freqs)+1000)\n",
    "            detect_pct = transitions[n][1]/transitions[n][2]\n",
    "            if detect_pct > 0.5:\n",
    "                plt.fill_betweenx(np.linspace(-0.2,2,100), min(freqs)-1000, max(freqs)+1000, color=\"yellow\", alpha=0.2)\n",
    "            if detect_pct > 0.75:\n",
    "                plt.fill_betweenx(np.linspace(-0.2,2,100), min(freqs)-1000, max(freqs)+1000, color=\"lime\", alpha=0.2)\n",
    "\n",
    "            plt.yticks([])\n",
    "\n",
    "        j+=1\n",
    "        n+=1\n",
    "    j=0\n",
    "    i+=1\n",
    "\n",
    "plt.xlabel(\"MHz\")\n",
    "plt.show()"
   ]
  },
  {
   "cell_type": "code",
   "execution_count": 56,
   "metadata": {},
   "outputs": [],
   "source": [
    "rows = np.floor(Nmols/2)\n",
    "cols = rows+1\n"
   ]
  },
  {
   "cell_type": "code",
   "execution_count": 57,
   "metadata": {},
   "outputs": [
    {
     "data": {
      "text/plain": [
       "37.0"
      ]
     },
     "execution_count": 57,
     "metadata": {},
     "output_type": "execute_result"
    }
   ],
   "source": [
    "rows+cols"
   ]
  },
  {
   "cell_type": "code",
   "execution_count": null,
   "metadata": {},
   "outputs": [],
   "source": []
  }
 ],
 "metadata": {
  "kernelspec": {
   "display_name": "Python 3",
   "language": "python",
   "name": "python3"
  },
  "language_info": {
   "codemirror_mode": {
    "name": "ipython",
    "version": 3
   },
   "file_extension": ".py",
   "mimetype": "text/x-python",
   "name": "python",
   "nbconvert_exporter": "python",
   "pygments_lexer": "ipython3",
   "version": "3.7.3"
  }
 },
 "nbformat": 4,
 "nbformat_minor": 2
}
